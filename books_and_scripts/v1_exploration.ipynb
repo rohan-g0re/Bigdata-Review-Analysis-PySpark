{
 "cells": [
  {
   "cell_type": "markdown",
   "id": "30a1c9f5-211b-4fcd-b30f-387ef928b717",
   "metadata": {},
   "source": [
    "# v1"
   ]
  },
  {
   "cell_type": "code",
   "execution_count": 6,
   "id": "14a381d2-35c3-42fb-a2d9-46f683fd83e6",
   "metadata": {},
   "outputs": [
    {
     "name": "stderr",
     "output_type": "stream",
     "text": [
      "Setting default log level to \"WARN\".\n",
      "To adjust logging level use sc.setLogLevel(newLevel). For SparkR, use setLogLevel(newLevel).\n",
      "25/05/13 12:43:08 WARN NativeCodeLoader: Unable to load native-hadoop library for your platform... using builtin-java classes where applicable\n"
     ]
    }
   ],
   "source": [
    "from pyspark.sql import SparkSession\n",
    "\n",
    "# Initialize SparkSession with appropriate memory configuration\n",
    "spark = SparkSession.builder \\\n",
    "    .appName(\"Large Parquet File Analysis\") \\\n",
    "    .config(\"spark.driver.memory\", \"8g\") \\\n",
    "    .config(\"spark.executor.memory\", \"8g\") \\\n",
    "    .config(\"spark.executor.cores\", \"4\") \\\n",
    "    .config(\"spark.sql.files.maxPartitionBytes\", \"134217728\") \\\n",
    "    .getOrCreate()"
   ]
  },
  {
   "cell_type": "code",
   "execution_count": 42,
   "id": "9a47f24f-9c84-40d5-915e-b99f9371b890",
   "metadata": {},
   "outputs": [
    {
     "name": "stdout",
     "output_type": "stream",
     "text": [
      "root\n",
      " |-- recommendationid: string (nullable = true)\n",
      " |-- appid: string (nullable = true)\n",
      " |-- game: string (nullable = true)\n",
      " |-- author_steamid: string (nullable = true)\n",
      " |-- author_num_games_owned: string (nullable = true)\n",
      " |-- author_num_reviews: string (nullable = true)\n",
      " |-- author_playtime_forever: string (nullable = true)\n",
      " |-- author_playtime_last_two_weeks: string (nullable = true)\n",
      " |-- author_playtime_at_review: string (nullable = true)\n",
      " |-- author_last_played: string (nullable = true)\n",
      " |-- language: string (nullable = true)\n",
      " |-- review: string (nullable = true)\n",
      " |-- timestamp_created: string (nullable = true)\n",
      " |-- timestamp_updated: string (nullable = true)\n",
      " |-- voted_up: string (nullable = true)\n",
      " |-- votes_up: string (nullable = true)\n",
      " |-- votes_funny: string (nullable = true)\n",
      " |-- weighted_vote_score: string (nullable = true)\n",
      " |-- comment_count: string (nullable = true)\n",
      " |-- steam_purchase: string (nullable = true)\n",
      " |-- received_for_free: string (nullable = true)\n",
      " |-- written_during_early_access: string (nullable = true)\n",
      "\n"
     ]
    }
   ],
   "source": [
    "# Path to your parquet file\n",
    "file_path = \"data/all_reviews/1m_sample.parquet\"\n",
    "\n",
    "# Read the parquet file\n",
    "df = spark.read.parquet(file_path)\n",
    "\n",
    "# Display the schema\n",
    "df.printSchema()\n",
    "\n"
   ]
  },
  {
   "cell_type": "code",
   "execution_count": 43,
   "id": "496717bd-3cee-4758-8e26-87029eb6c898",
   "metadata": {},
   "outputs": [
    {
     "name": "stderr",
     "output_type": "stream",
     "text": [
      "                                                                                \r"
     ]
    },
    {
     "data": {
      "text/plain": [
       "[Row(recommendationid='148571515', appid='10', game='Counter-Strike', author_steamid='76561198334618026', author_num_games_owned='61', author_num_reviews='9', author_playtime_forever='2000', author_playtime_last_two_weeks='2000', author_playtime_at_review='733', author_last_played='1698334477', language='russian', review='игра на века', timestamp_created='1697847862', timestamp_updated='1697847862', voted_up='1', votes_up='0', votes_funny='0', weighted_vote_score='0.0', comment_count='0', steam_purchase='1', received_for_free='0', written_during_early_access='0')]"
      ]
     },
     "execution_count": 43,
     "metadata": {},
     "output_type": "execute_result"
    }
   ],
   "source": [
    "# Show a sample of the data (first 10 rows)\n",
    "df.head(1)"
   ]
  },
  {
   "cell_type": "code",
   "execution_count": 44,
   "id": "9133b589-6a24-4942-a18f-ae0eed93b754",
   "metadata": {},
   "outputs": [],
   "source": [
    "from pyspark.sql.functions import col, rand, when, isnan, length\n",
    "\n",
    "def show_null_or_zero_samples(dataframe, column_name, sample_size=10):\n",
    "    \"\"\"\n",
    "    Display random samples of records where the specified column is null or zero.\n",
    "    \n",
    "    Parameters:\n",
    "    dataframe (DataFrame): The PySpark DataFrame to analyze\n",
    "    column_name (str): The name of the column to check for null/zero values\n",
    "    sample_size (int): Number of sample records to display (default: 10)\n",
    "    \"\"\"\n",
    "    # Check if column exists in the dataframe\n",
    "    if column_name not in dataframe.columns:\n",
    "        print(f\"Column '{column_name}' not found in the dataframe.\")\n",
    "        print(f\"Available columns: {dataframe.columns}\")\n",
    "        return\n",
    "    \n",
    "    # Get the data type of the column\n",
    "    column_type = dict(dataframe.dtypes)[column_name]\n",
    "    \n",
    "    # Create appropriate filter condition based on column type\n",
    "    if column_type in ['int', 'bigint', 'double', 'float', 'decimal']:\n",
    "        # For numeric columns, check for nulls, NaN, or zero\n",
    "        filter_condition = (col(column_name).isNull() | \n",
    "                           (when(column_type in ['double', 'float'], isnan(col(column_name))).otherwise(False)) | \n",
    "                           (col(column_name) == 0))\n",
    "    elif column_type in ['boolean']:\n",
    "        # For boolean columns, check for nulls or False\n",
    "        filter_condition = (col(column_name).isNull() | (col(column_name) == False))\n",
    "    elif column_type in ['timestamp', 'date']:\n",
    "        # For timestamp/date columns, check for nulls only\n",
    "        filter_condition = col(column_name).isNull()\n",
    "    elif column_type == 'string':\n",
    "        # For string columns, check for nulls, empty strings, or whitespace-only strings\n",
    "        filter_condition = (col(column_name).isNull() | \n",
    "                           (col(column_name) == \"\") | \n",
    "                           (length(trim(col(column_name))) == 0))\n",
    "    else:\n",
    "        # For other types, check for nulls only\n",
    "        filter_condition = col(column_name).isNull()\n",
    "    \n",
    "    # Filter the dataframe and get random samples\n",
    "    filtered_df = dataframe.filter(filter_condition)\n",
    "    \n",
    "    # Count the number of matching records\n",
    "    count = filtered_df.count()\n",
    "    \n",
    "    if count == 0:\n",
    "        print(f\"No records found where '{column_name}' is null or zero.\")\n",
    "        return\n",
    "    \n",
    "    # Order by random to get random samples\n",
    "    samples = filtered_df.orderBy(rand()).limit(sample_size)\n",
    "    \n",
    "    print(f\"Found {count} records where '{column_name}' is null or zero.\")\n",
    "    print(f\"Showing {min(sample_size, count)} random samples:\")\n",
    "    samples.show(sample_size, truncate=False)\n",
    "    \n",
    "    # Return the filtered dataframe in case further analysis is needed\n",
    "    return filtered_df\n",
    "\n"
   ]
  },
  {
   "cell_type": "code",
   "execution_count": 33,
   "id": "f54516ab-3b39-4787-a584-564dd28079af",
   "metadata": {},
   "outputs": [],
   "source": [
    "from pyspark.sql import SparkSession\n",
    "from pyspark.sql.functions import col\n",
    "from pyspark.sql.types import IntegerType, LongType, BooleanType, FloatType, TimestampType\n",
    "\n"
   ]
  },
  {
   "cell_type": "code",
   "execution_count": 34,
   "id": "8704b58c-fab3-42f1-922b-08534dc14f51",
   "metadata": {},
   "outputs": [],
   "source": [
    "# Assuming df is your existing DataFrame\n",
    "df_processed = df \\\n",
    "    .withColumn(\"appid\", col(\"appid\").cast(IntegerType())) \\\n",
    "    .withColumn(\"author_num_games_owned\", col(\"author_num_games_owned\").cast(IntegerType())) \\\n",
    "    .withColumn(\"author_num_reviews\", col(\"author_num_reviews\").cast(IntegerType())) \\\n",
    "    .withColumn(\"author_playtime_forever\", col(\"author_playtime_forever\").cast(IntegerType())) \\\n",
    "    .withColumn(\"author_playtime_last_two_weeks\", col(\"author_playtime_last_two_weeks\").cast(IntegerType())) \\\n",
    "    .withColumn(\"author_playtime_at_review\", col(\"author_playtime_at_review\").cast(IntegerType())) \\\n",
    "    .withColumn(\"author_last_played\", col(\"author_last_played\").cast(LongType())) \\\n",
    "    .withColumn(\"votes_up\", col(\"votes_up\").cast(IntegerType())) \\\n",
    "    .withColumn(\"votes_funny\", col(\"votes_funny\").cast(IntegerType())) \\\n",
    "    .withColumn(\"weighted_vote_score\", col(\"weighted_vote_score\").cast(FloatType())) \\\n",
    "    .withColumn(\"comment_count\", col(\"comment_count\").cast(IntegerType())) \\\n",
    "    .withColumn(\"voted_up\", col(\"voted_up\").cast(BooleanType())) \\\n",
    "    .withColumn(\"steam_purchase\", col(\"steam_purchase\").cast(BooleanType())) \\\n",
    "    .withColumn(\"received_for_free\", col(\"received_for_free\").cast(BooleanType())) \\\n",
    "    .withColumn(\"written_during_early_access\", col(\"written_during_early_access\").cast(BooleanType()))\n",
    "\n",
    "\n",
    "    # .withColumn(\"timestamp_created\", col(\"timestamp_created\").cast(TimestampType())) \\\n",
    "    # .withColumn(\"timestamp_updated\", col(\"timestamp_updated\").cast(TimestampType()))\n"
   ]
  },
  {
   "cell_type": "code",
   "execution_count": 35,
   "id": "751a5ce8-20e4-4447-9695-cbaf79d0b6f7",
   "metadata": {},
   "outputs": [
    {
     "name": "stdout",
     "output_type": "stream",
     "text": [
      "root\n",
      " |-- recommendationid: string (nullable = true)\n",
      " |-- appid: integer (nullable = true)\n",
      " |-- game: string (nullable = true)\n",
      " |-- author_steamid: string (nullable = true)\n",
      " |-- author_num_games_owned: integer (nullable = true)\n",
      " |-- author_num_reviews: integer (nullable = true)\n",
      " |-- author_playtime_forever: integer (nullable = true)\n",
      " |-- author_playtime_last_two_weeks: integer (nullable = true)\n",
      " |-- author_playtime_at_review: integer (nullable = true)\n",
      " |-- author_last_played: long (nullable = true)\n",
      " |-- language: string (nullable = true)\n",
      " |-- review: string (nullable = true)\n",
      " |-- timestamp_created: string (nullable = true)\n",
      " |-- timestamp_updated: string (nullable = true)\n",
      " |-- voted_up: boolean (nullable = true)\n",
      " |-- votes_up: integer (nullable = true)\n",
      " |-- votes_funny: integer (nullable = true)\n",
      " |-- weighted_vote_score: float (nullable = true)\n",
      " |-- comment_count: integer (nullable = true)\n",
      " |-- steam_purchase: boolean (nullable = true)\n",
      " |-- received_for_free: boolean (nullable = true)\n",
      " |-- written_during_early_access: boolean (nullable = true)\n",
      "\n"
     ]
    }
   ],
   "source": [
    "df_processed.printSchema()\n"
   ]
  },
  {
   "cell_type": "code",
   "execution_count": null,
   "id": "d2836b70-2502-42cd-a1d2-489b2cecc861",
   "metadata": {},
   "outputs": [],
   "source": [
    "show_null_or_zero_samples(df_processed, \"game\")\n"
   ]
  },
  {
   "cell_type": "code",
   "execution_count": 36,
   "id": "8745e787-51f3-4074-b797-ae43641c5ac2",
   "metadata": {},
   "outputs": [],
   "source": [
    "from pyspark.sql.functions import count, when, isnan, col\n",
    "\n",
    "# Get the data types of each column\n",
    "column_types = dict(df_processed.dtypes)\n",
    "\n",
    "# Create a list to store expressions for counting nulls\n",
    "null_count_expressions = []\n",
    "\n",
    "for c in df_processed.columns:\n",
    "    # For numeric columns (double/float), check both null and NaN\n",
    "    if column_types[c] in ['integer', 'double', 'float']:\n",
    "        null_count_expressions.append(count(when(col(c).isNull() | isnan(c), c)).alias(c))\n",
    "    # For other types, only check for null\n",
    "    else:\n",
    "        null_count_expressions.append(count(when(col(c).isNull(), c)).alias(c))\n",
    "\n",
    "# Apply the expressions to the DataFrame\n",
    "null_counts = df_processed.select(null_count_expressions)\n"
   ]
  },
  {
   "cell_type": "code",
   "execution_count": 37,
   "id": "81629ed1-2ec2-4c90-9322-ad1c16e9486b",
   "metadata": {},
   "outputs": [
    {
     "name": "stderr",
     "output_type": "stream",
     "text": [
      "                                                                                \r"
     ]
    },
    {
     "data": {
      "text/plain": [
       "[Row(recommendationid=0, appid=17, game=51, author_steamid=14, author_num_games_owned=20, author_num_reviews=19, author_playtime_forever=16, author_playtime_last_two_weeks=16, author_playtime_at_review=16, author_last_played=16, language=15, review=15, timestamp_created=214, timestamp_updated=226, voted_up=25962, votes_up=15369, votes_funny=13523, weighted_vote_score=12022, comment_count=10759, steam_purchase=16461, received_for_free=14143, written_during_early_access=12414)]"
      ]
     },
     "execution_count": 37,
     "metadata": {},
     "output_type": "execute_result"
    }
   ],
   "source": [
    "null_counts.head(50)\n"
   ]
  },
  {
   "cell_type": "code",
   "execution_count": 38,
   "id": "2359ca03-bc2d-4155-b8cc-13cf08d523ab",
   "metadata": {},
   "outputs": [],
   "source": []
  },
  {
   "cell_type": "code",
   "execution_count": 40,
   "id": "af43c17d-e62f-4ce3-b729-7518a37c65f0",
   "metadata": {},
   "outputs": [
    {
     "name": "stdout",
     "output_type": "stream",
     "text": [
      "Found 51 records where 'game' is null or zero.\n",
      "Showing 10 random samples:\n"
     ]
    },
    {
     "name": "stderr",
     "output_type": "stream",
     "text": [
      "[Stage 42:=============================>                            (1 + 1) / 2]\r"
     ]
    },
    {
     "name": "stdout",
     "output_type": "stream",
     "text": [
      "+-------------------+-------+----+-----------------+----------------------+------------------+-----------------------+------------------------------+-------------------------+------------------+--------+--------------------------------------------------------------------------------------------------------------------------------------------------------------------------------------------------------------------------------------------------------------------------------------------------------------------------------------------------------------------------------------------------------------------------------------------------------------------------------------------------------------------------------------------------------------------------------------------------------------------------------------------------------------------------------------------------------------------------------------------------------------------------------------------+----------------------------------------------------------------------------+------------------------+--------+--------+-----------+-------------------+-------------+--------------+-----------------+---------------------------+\n",
      "|recommendationid   |appid  |game|author_steamid   |author_num_games_owned|author_num_reviews|author_playtime_forever|author_playtime_last_two_weeks|author_playtime_at_review|author_last_played|language|review                                                                                                                                                                                                                                                                                                                                                                                                                                                                                                                                                                                                                                                                                                                                                                                      |timestamp_created                                                           |timestamp_updated       |voted_up|votes_up|votes_funny|weighted_vote_score|comment_count|steam_purchase|received_for_free|written_during_early_access|\n",
      "+-------------------+-------+----+-----------------+----------------------+------------------+-----------------------+------------------------------+-------------------------+------------------+--------+--------------------------------------------------------------------------------------------------------------------------------------------------------------------------------------------------------------------------------------------------------------------------------------------------------------------------------------------------------------------------------------------------------------------------------------------------------------------------------------------------------------------------------------------------------------------------------------------------------------------------------------------------------------------------------------------------------------------------------------------------------------------------------------------+----------------------------------------------------------------------------+------------------------+--------+--------+-----------+-------------------+-------------+--------------+-----------------+---------------------------+\n",
      "|133803302          |1980490|NULL|76561198035522847|73                    |4                 |109                    |0                             |109                      |1677595029        |polish  |Gra zużywa 100% karty graficznej i cewki w karcie zaczynają piszczeć RTX 3060Ti                                                                                                                                                                                                                                                                                                                                                                                                                                                                                                                                                                                                                                                                                                             |1677595129                                                                  |1677595129              |false   |0       |0          |0.45454547         |0            |true          |false            |false                      |\n",
      "|87723127           |977650 |NULL|76561197992126394|176                   |2                 |5289                   |0                             |150                      |1670156788        |french  |Bon que dire ..... le jeu a  un gros potentiel d’après les tuto que j'ai fait il et fun a jouer , mais un binz ... pas de matchmakin donc  en gros si ta pas 3 ami(e)s qui joue aussi bha tu la dans le baba et sa pour le mode de survie 3vs IA sinon ces carrément 6 joueur que tu doit trouvé ....,  comme dans mon cas ou j'ai pas dépassé les tuto  1 seul matchmakin dispo  ces le compétitif  20 a 30 minute d'attente et rien donc je suppose qu'il ne fonctionne pas , sinon game play super fun  très complet  graphisme moyen mais suffisant . le discord officiel fr vide donc pas moyen de trouvé du joueur . malgré sa je recommande le jeu car tous et fais pour s'éclaté a 3   et une new gen de rts  a exploité  .donc les modo !!! au boulo crée nous de bon matchmakin !!|1614687063                                                                  |1614687063              |true    |0       |0          |0.0                |0            |false         |false            |true                       |\n",
      "|144691915          |2390080|NULL|76561199048421739|0                     |6                 |9                      |0                             |5                        |1692591310        |schinese|这游戏，画面还不错~挺喜欢~！系统也还做得可以，在同类型产品中，算是比较丰富的了。战斗是一个亮点，不是传统回合制的。而是即时制的，比较有新意，正题值得玩一下。                                                                                                                                                                                                                                                                                                                                                                                                                                                                                                                                                                                                                                |1692591226                                                                  |1692591226              |true    |10      |0          |0.561753           |0            |false         |false            |true                       |\n",
      "|76840527           |654690 |NULL|76561198046342689|162                   |8                 |2098                   |0                             |2098                     |1601148011        |german  |\"So, da hat der gute dann mal zum \"\"Release\"\" an ein unfertiges Spiel (abandoned                                                                                                                                                                                                                                                                                                                                                                                                                                                                                                                                                                                                                                                                                                            | wie die meisten sagen) noch paar Karten und Errungenschaften drangeklatscht| ein bischen Spielinhalt|NULL    |NULL    |NULL       |NULL               |NULL         |NULL          |NULL             |NULL                       |\n",
      "|                   |NULL   |NULL|NULL             |NULL                  |NULL              |NULL                   |NULL                          |NULL                     |NULL              |NULL    |NULL                                                                                                                                                                                                                                                                                                                                                                                                                                                                                                                                                                                                                                                                                                                                                                                        |NULL                                                                        |NULL                    |NULL    |NULL    |NULL       |NULL               |NULL         |NULL          |NULL             |NULL                       |\n",
      "|         ` ~&&\\yM#1|NULL   |NULL|NULL             |NULL                  |NULL              |NULL                   |NULL                          |NULL                     |NULL              |NULL    |NULL                                                                                                                                                                                                                                                                                                                                                                                                                                                                                                                                                                                                                                                                                                                                                                                        |NULL                                                                        |NULL                    |NULL    |NULL    |NULL       |NULL               |NULL         |NULL          |NULL             |NULL                       |\n",
      "|7963375            |11360  |NULL|76561198010818077|36                    |1                 |34                     |0                             |34                       |1386593409        |english |good game                                                                                                                                                                                                                                                                                                                                                                                                                                                                                                                                                                                                                                                                                                                                                                                   |1386473316                                                                  |1386473316              |true    |2       |0          |0.46160302         |0            |true          |false            |false                      |\n",
      "|79695663           |1412510|NULL|76561198867408126|0                     |2                 |337                    |0                             |313                      |1606273340        |schinese|策略性还不错，总体来说还挺好玩的，但是仙剑元素几乎只在BGM有，，。                                                                                                                                                                                                                                                                                                                                                                                                                                                                                                                                                                                                                                                                                                                           |1606112743                                                                  |1606112743              |true    |0       |0          |0.0                |0            |false         |true             |false                      |\n",
      "|78405147           |654690 |NULL|76561198847481602|0                     |6                 |700                    |0                             |697                      |1604143085        |german  |This game starts off really nicely and actually one of my favorite in easy and addictive survival mechanisms. But then, after you explored a little you realize there's nothing more to come. Again, great thumbs up in gameplay and ease of use. But it feels somebody just cut it off midgame.                                                                                                                                                                                                                                                                                                                                                                                                                                                                                            |1604073993                                                                  |1604073993              |false   |2       |0          |0.0                |0            |true          |false            |false                      |\n",
      "|78754060           |1412510|NULL|76561198131787120|0                     |20                |2636                   |0                             |2385                     |1604584654        |schinese|打牌 打牌 打牌，塔诺西 情怀BGM赞                                                                                                                                                                                                                                                                                                                                                                                                                                                                                                                                                                                                                                                                                                                                                            |1604568924                                                                  |1604568924              |true    |1       |2          |0.50789475         |0            |false         |false            |false                      |\n",
      "+-------------------+-------+----+-----------------+----------------------+------------------+-----------------------+------------------------------+-------------------------+------------------+--------+--------------------------------------------------------------------------------------------------------------------------------------------------------------------------------------------------------------------------------------------------------------------------------------------------------------------------------------------------------------------------------------------------------------------------------------------------------------------------------------------------------------------------------------------------------------------------------------------------------------------------------------------------------------------------------------------------------------------------------------------------------------------------------------------+----------------------------------------------------------------------------+------------------------+--------+--------+-----------+-------------------+-------------+--------------+-----------------+---------------------------+\n",
      "\n"
     ]
    },
    {
     "name": "stderr",
     "output_type": "stream",
     "text": [
      "                                                                                \r"
     ]
    },
    {
     "data": {
      "text/plain": [
       "DataFrame[recommendationid: string, appid: int, game: string, author_steamid: string, author_num_games_owned: int, author_num_reviews: int, author_playtime_forever: int, author_playtime_last_two_weeks: int, author_playtime_at_review: int, author_last_played: bigint, language: string, review: string, timestamp_created: string, timestamp_updated: string, voted_up: boolean, votes_up: int, votes_funny: int, weighted_vote_score: float, comment_count: int, steam_purchase: boolean, received_for_free: boolean, written_during_early_access: boolean]"
      ]
     },
     "execution_count": 40,
     "metadata": {},
     "output_type": "execute_result"
    }
   ],
   "source": [
    "# Example usage:\n",
    "show_null_or_zero_samples(df_processed, \"game\")\n"
   ]
  },
  {
   "cell_type": "code",
   "execution_count": null,
   "id": "bf7f9ee0-9578-4e79-a5b7-8c4670ef065c",
   "metadata": {},
   "outputs": [],
   "source": []
  },
  {
   "cell_type": "code",
   "execution_count": null,
   "id": "854e4d5f-85bf-4813-92e6-92765ecdd38e",
   "metadata": {},
   "outputs": [],
   "source": []
  },
  {
   "cell_type": "markdown",
   "id": "b6e7338f-ae13-42c3-9cea-6d29d6c8f089",
   "metadata": {},
   "source": [
    "# v2"
   ]
  },
  {
   "cell_type": "code",
   "execution_count": null,
   "id": "e343a4b4-adce-4418-b126-4c2c71ac7e8a",
   "metadata": {},
   "outputs": [],
   "source": []
  },
  {
   "cell_type": "code",
   "execution_count": 1,
   "id": "b2ff06c4-c7c2-41ce-b81b-dd643e5b9498",
   "metadata": {},
   "outputs": [
    {
     "name": "stderr",
     "output_type": "stream",
     "text": [
      "Setting default log level to \"WARN\".\n",
      "To adjust logging level use sc.setLogLevel(newLevel). For SparkR, use setLogLevel(newLevel).\n",
      "25/05/13 15:27:29 WARN NativeCodeLoader: Unable to load native-hadoop library for your platform... using builtin-java classes where applicable\n"
     ]
    }
   ],
   "source": [
    "from pyspark.sql import SparkSession\n",
    "\n",
    "# Initialize SparkSession with appropriate memory configuration\n",
    "spark = SparkSession.builder \\\n",
    "    .appName(\"Large Parquet File Analysis\") \\\n",
    "    .config(\"spark.driver.memory\", \"8g\") \\\n",
    "    .config(\"spark.executor.memory\", \"8g\") \\\n",
    "    .config(\"spark.executor.cores\", \"4\") \\\n",
    "    .config(\"spark.sql.files.maxPartitionBytes\", \"134217728\") \\\n",
    "    .getOrCreate()"
   ]
  },
  {
   "cell_type": "code",
   "execution_count": 2,
   "id": "47f9bea3-da95-4fe8-a423-b67c67581e3e",
   "metadata": {},
   "outputs": [
    {
     "name": "stderr",
     "output_type": "stream",
     "text": [
      "                                                                                \r"
     ]
    },
    {
     "name": "stdout",
     "output_type": "stream",
     "text": [
      "Original Schema:\n",
      "root\n",
      " |-- recommendationid: string (nullable = true)\n",
      " |-- appid: string (nullable = true)\n",
      " |-- game: string (nullable = true)\n",
      " |-- author_steamid: string (nullable = true)\n",
      " |-- author_num_games_owned: string (nullable = true)\n",
      " |-- author_num_reviews: string (nullable = true)\n",
      " |-- author_playtime_forever: string (nullable = true)\n",
      " |-- author_playtime_last_two_weeks: string (nullable = true)\n",
      " |-- author_playtime_at_review: string (nullable = true)\n",
      " |-- author_last_played: string (nullable = true)\n",
      " |-- language: string (nullable = true)\n",
      " |-- review: string (nullable = true)\n",
      " |-- timestamp_created: string (nullable = true)\n",
      " |-- timestamp_updated: string (nullable = true)\n",
      " |-- voted_up: string (nullable = true)\n",
      " |-- votes_up: string (nullable = true)\n",
      " |-- votes_funny: string (nullable = true)\n",
      " |-- weighted_vote_score: string (nullable = true)\n",
      " |-- comment_count: string (nullable = true)\n",
      " |-- steam_purchase: string (nullable = true)\n",
      " |-- received_for_free: string (nullable = true)\n",
      " |-- written_during_early_access: string (nullable = true)\n",
      "\n"
     ]
    }
   ],
   "source": [
    "import pandas as pd\n",
    "import numpy as np\n",
    "import random\n",
    "from pyspark.sql import SparkSession\n",
    "from pyspark.sql.functions import col, when, isnan, count, rand, trim, length\n",
    "from pyspark.sql.types import IntegerType, LongType, BooleanType, FloatType\n",
    "\n",
    "# 1. Load data and print schema\n",
    "def load_data(file_path):\n",
    "    \"\"\"\n",
    "    Load the parquet file and print its schema\n",
    "    \"\"\"    \n",
    "    # Load the dataset\n",
    "    df = spark.read.parquet(file_path)\n",
    "    \n",
    "    # Print the schema\n",
    "    print(\"Original Schema:\")\n",
    "    df.printSchema()\n",
    "    \n",
    "    return df\n",
    "\n",
    "file_path = \"data/all_reviews/1m_sample.parquet\"\n",
    "\n",
    "# Read the parquet file\n",
    "df = load_data(file_path)\n",
    "\n"
   ]
  },
  {
   "cell_type": "code",
   "execution_count": 37,
   "id": "fe483866-f079-44c2-ae6f-3ae6429dd68a",
   "metadata": {},
   "outputs": [],
   "source": [
    "\n",
    "# 2. Check for null values\n",
    "def check_null_values(df):\n",
    "    \"\"\"\n",
    "    Check for null values in all columns and print the count\n",
    "    \"\"\"\n",
    "    # Create expressions for counting nulls in each column\n",
    "    null_count_expressions = []\n",
    "    \n",
    "    for c in df.columns:\n",
    "        column_type = dict(df.dtypes)[c]\n",
    "        \n",
    "        # For numeric columns (int, double, float), check both null and NaN\n",
    "        if column_type in ['int', 'bigint', 'double', 'float']:\n",
    "            null_count_expressions.append(count(when(col(c).isNull() | isnan(c), c)).alias(c))\n",
    "        # For string columns, check for nulls and empty strings\n",
    "        elif column_type == 'string':\n",
    "            null_count_expressions.append(count(when(col(c).isNull() | (col(c) == \"\"), c)).alias(c))\n",
    "        # For other types, only check for null\n",
    "        else:\n",
    "            null_count_expressions.append(count(when(col(c).isNull(), c)).alias(c))\n",
    "    \n",
    "    # Apply the expressions to the DataFrame\n",
    "    null_counts = df.select(null_count_expressions)\n",
    "    \n",
    "    # print(\"Null value counts for each column:\")\n",
    "    # null_counts.show(truncate=False)\n",
    "    \n",
    "    return null_counts\n",
    "\n",
    "\n",
    "null_counts = check_null_values(df)"
   ]
  },
  {
   "cell_type": "code",
   "execution_count": 38,
   "id": "37fddbef-463b-463c-bfc2-a286fa54b848",
   "metadata": {},
   "outputs": [
    {
     "name": "stderr",
     "output_type": "stream",
     "text": [
      "                                                                                \r"
     ]
    },
    {
     "data": {
      "text/plain": [
       "[Row(recommendationid=0, appid=11, game=51, author_steamid=14, author_num_games_owned=14, author_num_reviews=14, author_playtime_forever=14, author_playtime_last_two_weeks=14, author_playtime_at_review=14, author_last_played=15, language=15, review=15, timestamp_created=214, timestamp_updated=226, voted_up=233, votes_up=201, votes_funny=230, weighted_vote_score=227, comment_count=200, steam_purchase=212, received_for_free=222, written_during_early_access=211)]"
      ]
     },
     "execution_count": 38,
     "metadata": {},
     "output_type": "execute_result"
    }
   ],
   "source": [
    "null_counts.head(23)"
   ]
  },
  {
   "cell_type": "code",
   "execution_count": null,
   "id": "a8ad7284-0135-4677-94a1-168a7ef17c34",
   "metadata": {},
   "outputs": [],
   "source": []
  },
  {
   "cell_type": "code",
   "execution_count": 40,
   "id": "004b0c6a-d42a-4e12-b637-83b051ae3c30",
   "metadata": {},
   "outputs": [
    {
     "name": "stdout",
     "output_type": "stream",
     "text": [
      "\n",
      "Converted Schema:\n",
      "root\n",
      " |-- recommendationid: string (nullable = true)\n",
      " |-- appid: string (nullable = true)\n",
      " |-- game: string (nullable = true)\n",
      " |-- author_steamid: string (nullable = true)\n",
      " |-- author_num_games_owned: integer (nullable = true)\n",
      " |-- author_num_reviews: integer (nullable = true)\n",
      " |-- author_playtime_forever: integer (nullable = true)\n",
      " |-- author_playtime_last_two_weeks: string (nullable = true)\n",
      " |-- author_playtime_at_review: integer (nullable = true)\n",
      " |-- author_last_played: timestamp (nullable = true)\n",
      " |-- language: string (nullable = true)\n",
      " |-- review: string (nullable = true)\n",
      " |-- timestamp_created: timestamp (nullable = true)\n",
      " |-- timestamp_updated: timestamp (nullable = true)\n",
      " |-- voted_up: string (nullable = true)\n",
      " |-- votes_up: integer (nullable = true)\n",
      " |-- votes_funny: integer (nullable = true)\n",
      " |-- weighted_vote_score: float (nullable = true)\n",
      " |-- comment_count: integer (nullable = true)\n",
      " |-- steam_purchase: boolean (nullable = true)\n",
      " |-- received_for_free: boolean (nullable = true)\n",
      " |-- written_during_early_access: boolean (nullable = true)\n",
      "\n"
     ]
    }
   ],
   "source": [
    "# 3. Convert data types\n",
    "from pyspark.sql.functions import col, from_unixtime, to_timestamp\n",
    "from pyspark.sql.types import IntegerType, FloatType, BooleanType, TimestampType\n",
    "\n",
    "def convert_data_types(df):\n",
    "    \"\"\"\n",
    "    Convert columns to appropriate data types\n",
    "    \"\"\"\n",
    "    df_processed = df \\\n",
    "        .withColumn(\"author_num_games_owned\", col(\"author_num_games_owned\").cast(IntegerType())) \\\n",
    "        .withColumn(\"author_num_reviews\", col(\"author_num_reviews\").cast(IntegerType())) \\\n",
    "        .withColumn(\"author_playtime_forever\", col(\"author_playtime_forever\").cast(IntegerType())) \\\n",
    "        .withColumn(\"author_playtime_at_review\", col(\"author_playtime_at_review\").cast(IntegerType())) \\\n",
    "        .withColumn(\"votes_up\", col(\"votes_up\").cast(IntegerType())) \\\n",
    "        .withColumn(\"votes_funny\", col(\"votes_funny\").cast(IntegerType())) \\\n",
    "        .withColumn(\"weighted_vote_score\", col(\"weighted_vote_score\").cast(FloatType())) \\\n",
    "        .withColumn(\"comment_count\", col(\"comment_count\").cast(IntegerType())) \\\n",
    "        .withColumn(\"steam_purchase\", col(\"steam_purchase\").cast(BooleanType())) \\\n",
    "        .withColumn(\"received_for_free\", col(\"received_for_free\").cast(BooleanType())) \\\n",
    "        .withColumn(\"written_during_early_access\", col(\"written_during_early_access\").cast(BooleanType()))\n",
    "    \n",
    "    # Convert Unix timestamps to proper datetime format\n",
    "    df_processed = df_processed \\\n",
    "        .withColumn(\"author_last_played\", to_timestamp(from_unixtime(col(\"author_last_played\").cast(\"long\")))) \\\n",
    "        .withColumn(\"timestamp_created\", to_timestamp(from_unixtime(col(\"timestamp_created\").cast(\"long\")))) \\\n",
    "        .withColumn(\"timestamp_updated\", to_timestamp(from_unixtime(col(\"timestamp_updated\").cast(\"long\"))))\n",
    "    \n",
    "    print(\"\\nConverted Schema:\")\n",
    "    df_processed.printSchema()\n",
    "    \n",
    "    return df_processed\n",
    "\n",
    "\n",
    "\n",
    "df_dtypes_changed = convert_data_types(df)"
   ]
  },
  {
   "cell_type": "code",
   "execution_count": 41,
   "id": "9709123a-2184-4f59-9156-47e2637563f7",
   "metadata": {},
   "outputs": [
    {
     "name": "stderr",
     "output_type": "stream",
     "text": [
      "                                                                                \r"
     ]
    },
    {
     "data": {
      "text/plain": [
       "[Row(recommendationid=0, appid=11, game=51, author_steamid=14, author_num_games_owned=20, author_num_reviews=19, author_playtime_forever=16, author_playtime_last_two_weeks=14, author_playtime_at_review=16, author_last_played=16, language=15, review=15, timestamp_created=25949, timestamp_updated=21078, voted_up=233, votes_up=15369, votes_funny=13523, weighted_vote_score=12022, comment_count=10759, steam_purchase=16461, received_for_free=14143, written_during_early_access=12414)]"
      ]
     },
     "execution_count": 41,
     "metadata": {},
     "output_type": "execute_result"
    }
   ],
   "source": [
    "null_counts = check_null_values(df_dtypes_changed)\n",
    "null_counts.head(50)"
   ]
  },
  {
   "cell_type": "code",
   "execution_count": null,
   "id": "ca180520-246e-4078-9474-d509cf3cac75",
   "metadata": {},
   "outputs": [],
   "source": []
  },
  {
   "cell_type": "code",
   "execution_count": 42,
   "id": "b2b66128-c1d1-4238-bdc5-331236aa6914",
   "metadata": {},
   "outputs": [
    {
     "name": "stdout",
     "output_type": "stream",
     "text": [
      "+----------------+-----+--------------+-----------------+----------------------+------------------+-----------------------+------------------------------+-------------------------+-------------------+----------+------------------------------------+-------------------+-------------------+----------+--------+-----------+-------------------+-------------+--------------+-----------------+---------------------------+\n",
      "|recommendationid|appid|          game|   author_steamid|author_num_games_owned|author_num_reviews|author_playtime_forever|author_playtime_last_two_weeks|author_playtime_at_review| author_last_played|  language|                              review|  timestamp_created|  timestamp_updated|  voted_up|votes_up|votes_funny|weighted_vote_score|comment_count|steam_purchase|received_for_free|written_during_early_access|\n",
      "+----------------+-----+--------------+-----------------+----------------------+------------------+-----------------------+------------------------------+-------------------------+-------------------+----------+------------------------------------+-------------------+-------------------+----------+--------+-----------+-------------------+-------------+--------------+-----------------+---------------------------+\n",
      "|       148571515|   10|Counter-Strike|76561198334618026|                    61|                 9|                   2000|                          2000|                      733|2023-10-26 11:34:37|   russian|                        игра на века|2023-10-20 20:24:22|2023-10-20 20:24:22|         1|       0|          0|                0.0|            0|          true|            false|                      false|\n",
      "|       148511188|   10|Counter-Strike|76561198091390506|                  1052|                 4|                 209651|                             0|                   209651|2023-08-22 22:59:10|   english|                        old but gold|2023-10-19 18:31:49|2023-10-19 18:31:49|         1|       2|          0|         0.52380955|            0|          true|            false|                      false|\n",
      "|       148406849|   10|Counter-Strike|76561199030849263|                    18|                 2|                   1487|                           820|                     1308|2023-10-25 17:42:34|   russian|                            rrgwegwe|2023-10-17 17:11:40|2023-10-17 17:11:40|         1|       0|          0|                0.0|            0|          true|            false|                      false|\n",
      "|       148073507|   10|Counter-Strike|76561199498581350|                    25|                10|                    458|                           248|                      207|2023-10-21 08:27:30|   russian|                            КЛАССИКА|2023-10-12 08:13:28|2023-10-12 08:13:28|         1|       0|          0|                0.0|            0|          true|            false|                      false|\n",
      "|       147625089|   10|Counter-Strike|76561198126494003|                     0|                 8|                    274|                             0|                      274|2023-08-29 06:37:00|   russian|                володя строитель>...|2023-10-04 10:09:28|2023-10-04 10:09:28|         1|       0|          0|                0.0|            0|          true|            false|                      false|\n",
      "|       147617175|   10|Counter-Strike|76561199472036608|                    17|                 6|                  10278|                             0|                    10150|2023-10-11 10:52:24| ukrainian|                          cs 1.6>cs2|2023-10-04 07:14:58|2023-10-04 07:14:58|         1|      10|          1|         0.65317917|            0|          true|            false|                      false|\n",
      "|       147500144|   10|Counter-Strike|76561198879290470|                     0|                 1|                  21395|                             0|                    21345|2023-10-07 03:22:04|   russian|                          иглгнлнгва|2023-10-02 08:30:12|2023-10-02 08:30:12|         1|       1|          0|         0.50641024|            0|          true|            false|                      false|\n",
      "|       147438195|   10|Counter-Strike|76561199469193518|                     9|                 1|                     50|                             1|                       50|2023-10-17 17:48:00|   russian|                Нержавеющая классика|2023-10-01 10:25:20|2023-10-01 10:25:20|         1|       0|          0|                0.0|            0|          true|            false|                      false|\n",
      "|       147410281|   10|Counter-Strike|76561199090796187|                    82|                17|                    214|                             0|                      214|2023-08-06 23:45:31|   russian|                \"Накидайте под об...|2023-10-01 01:44:30|2023-10-01 01:44:30|         1|       0|          0|                0.0|            0|          true|            false|                      false|\n",
      "|       147393889|   10|Counter-Strike|76561197986571426|                   200|                 2|                  27816|                             2|                    27813|2023-10-23 12:43:09|   english|                well, what should...|2023-09-30 19:21:19|2023-09-30 19:21:19|         1|       0|          0|                0.0|            0|          true|            false|                      false|\n",
      "|       147362660|   10|Counter-Strike|76561199095488059|                     0|                 2|                  69490|                          1281|                    68092|2023-10-25 22:09:27|   spanish|                Mas de mil horas ...|2023-09-30 11:01:46|2023-09-30 11:01:46|         1|       0|          0|                0.0|            0|         false|             true|                      false|\n",
      "|       147337857|   10|Counter-Strike|76561199070153786|                    28|                 3|                    663|                           109|                      408|2023-10-24 08:43:49|   english|                𝕿𝖍𝖎𝖘 𝕴𝖘 𝖆 ...|2023-09-30 03:58:48|2023-09-30 03:58:48|         1|       0|          0|                0.0|            0|          true|            false|                      false|\n",
      "|       147284743|   10|Counter-Strike|76561199137893460|                    19|                 5|                    543|                            10|                      526|2023-10-20 10:09:51|  schinese|     cs2出了真他妈傻逼以后就玩cs1...|2023-09-29 10:53:19|2023-09-29 10:53:19|         1|     128|         24|         0.85361195|            0|          true|            false|                      false|\n",
      "|       147227982|   10|Counter-Strike|76561198382046221|                   137|                30|                     22|                             0|                       22|2021-07-14 08:52:20|   russian|                Conter-strike > C...|2023-09-28 14:28:49|2023-09-28 14:28:49|         1|      25|          2|          0.5769813|            0|          true|            false|                      false|\n",
      "|       147188825|   10|Counter-Strike|76561199204195553|                     0|                 2|                 164649|                          5421|                   150871|2023-10-26 04:41:13|  romanian|                               super|2023-09-28 03:32:05|2023-09-28 03:32:05|         1|       0|          0|                0.0|            0|          true|            false|                      false|\n",
      "|       147188589|   10|Counter-Strike|76561197960637456|                    62|                 1|                  93261|                             0|                    93261|2023-10-02 17:17:05|    german|                Läuft einfach Sah...|2023-09-28 03:25:46|2023-09-28 03:25:46|         1|       1|          0|                0.0|            0|         false|            false|                      false|\n",
      "|       147165487|   10|Counter-Strike|76561198146028962|                     0|                 3|                   4493|                             0|                     4449|2023-09-27 19:47:13|   english|                After the update ...|2023-09-27 19:00:12|2023-09-27 19:00:12|         1|       1|          0|                0.0|            0|         false|             true|                      false|\n",
      "|       147021267|   10|Counter-Strike|76561199403134304|                     0|                 2|                   2227|                           126|                      665|2023-10-13 16:21:57|   english|                                   P|2023-09-25 15:53:42|2023-09-25 15:53:42|         1|       0|          0|                0.0|            0|          true|            false|                      false|\n",
      "|       146883681|   10|Counter-Strike|76561198023702981|                     0|                 3|                  88766|                             0|                    88684|2023-10-06 14:19:11|   english|                          veri good |2023-09-23 15:54:23|2023-09-23 15:54:23|         1|       0|          0|                0.0|            0|         false|            false|                      false|\n",
      "|       146712021|   10|Counter-Strike|76561198054499643|                    23|                 5|                  70726|                             0|                    70710|2023-10-11 14:39:46|   russian|                          Просто топ|2023-09-21 10:43:57|2023-09-21 10:43:57|         1|       0|          0|                0.0|            0|          true|            false|                      false|\n",
      "|       146675503|   10|Counter-Strike|76561198880096119|                     0|                 2|                   2149|                           425|                      911|2023-10-25 19:25:38|     latam|                                  si|2023-09-20 19:02:16|2023-09-20 19:02:16|         1|       0|          0|                0.0|            0|         false|            false|                      false|\n",
      "|       146625657|   10|Counter-Strike|76561199110785514|                     4|                 1|                   6103|                             0|                       45|2023-10-08 16:34:40|   english|                                  ))|2023-09-19 23:06:32|2023-09-19 23:06:32|         1|       0|          0|                0.0|            0|          true|            false|                      false|\n",
      "|       146418099|   10|Counter-Strike|76561199127484465|                    87|                 2|                      6|                             0|                        6|2023-09-16 14:08:44|   turkish|                            bok gibi|2023-09-16 14:12:16|2023-09-16 14:12:16|         0|       0|          0|         0.47619048|            0|          true|            false|                      false|\n",
      "|       146409479|   10|Counter-Strike|76561198962705249|                    30|                 5|                   2762|                           257|                     2392|2023-10-13 23:12:32|   english|                if you hate yours...|2023-09-16 11:49:24|2023-09-16 11:49:24|         1|       0|          0|                0.0|            0|          true|            false|                      false|\n",
      "|       146307346|   10|Counter-Strike|76561199528836236|                     9|                 3|                    303|                             0|                      284|2023-09-16 12:23:33|   turkish|                benim gibi bilgis...|2023-09-14 19:54:20|2023-09-14 19:54:20|         1|       0|          0|                0.0|            0|          true|            false|                      false|\n",
      "|       146285861|   10|Counter-Strike|76561198799991424|                     0|                10|                    580|                             0|                      574|2023-09-14 11:42:27|   russian|                кусок пожилого говна|2023-09-14 11:32:03|2023-09-14 11:32:03|         0|       1|          0|         0.49363253|            0|          true|            false|                      false|\n",
      "|       146273526|   10|Counter-Strike|76561198197498401|                     0|                14|                    106|                             0|                       12|2023-10-09 05:09:19|   english|                    The Pentium Days|2023-09-14 06:58:45|2023-09-14 06:58:45|         1|       0|          0|                0.0|            0|          true|            false|                      false|\n",
      "|       146120587|   10|Counter-Strike|76561198892575804|                     0|                 8|                    459|                             0|                      455|2023-09-29 14:33:05|   russian|                 Многие с неё начали|2023-09-11 11:21:23|2023-09-11 11:21:23|         1|       1|          0|         0.52380955|            0|          true|            false|                      false|\n",
      "|       145940707|   10|Counter-Strike|76561198830898427|                     5|                 2|                  53362|                             0|                    53219|2023-09-27 08:58:07|   russian|                       олд скул гейм|2023-09-08 18:13:08|2023-09-08 18:13:08|         1|       0|          0|                0.0|            0|         false|            false|                      false|\n",
      "|       145459565|   10|Counter-Strike|76561198841492644|                    20|                 8|                   3845|                           420|                      650|2023-10-23 16:08:03|   russian|                This is the best ...|2023-09-01 12:21:50|2023-09-01 12:21:50|         1|       0|          0|                0.0|            0|          true|             true|                      false|\n",
      "|       145159615|   10|Counter-Strike|76561198274185111|                     0|                 7|                     19|                             0|                       19|2022-06-25 09:55:59|   english|                             classic|2023-08-27 17:05:19|2023-08-27 17:05:19|         1|       0|          0|                0.0|            0|          true|            false|                      false|\n",
      "|       145018223|   10|Counter-Strike|76561199486310389|                     0|                 3|                    778|                             0|                      421|2023-08-29 06:02:42|   turkish|                            ALIN AMK|2023-08-25 18:39:46|2023-08-25 18:39:46|         1|       0|          1|                0.0|            0|         false|             true|                      false|\n",
      "|       144991656|   10|Counter-Strike|76561199245331429|                     0|                 3|                    141|                             0|                      103|2023-08-25 11:26:29|   english|                  best fps game ever|2023-08-25 10:41:55|2023-08-25 10:41:55|         1|       0|          0|                0.0|            0|          true|            false|                      false|\n",
      "|       144786059|   10|Counter-Strike|76561198986035785|                    24|                 2|                   5690|                             0|                     5690|2023-08-22 08:02:11|   russian|                                   !|2023-08-22 08:03:29|2023-08-22 08:03:29|         1|       0|          0|                0.0|            0|          true|            false|                      false|\n",
      "|       144674460|   10|Counter-Strike|76561197966019881|                    10|                 1|                  57383|                             0|                    50238|2023-09-09 21:40:23|   turkish|                      10 numara coni|2023-08-20 17:53:20|2023-08-20 17:53:20|         1|       8|          0|           0.589382|            0|         false|            false|                      false|\n",
      "|       144459263|   10|Counter-Strike|76561199527713466|                     0|                25|                    340|                            87|                      100|2023-10-19 19:45:22|   spanish|                uffffffffffffffff...|2023-08-17 23:37:58|2023-08-17 23:37:58|         1|       0|          0|                0.0|            0|          true|            false|                      false|\n",
      "|       144308037|   10|Counter-Strike|76561198893691388|                    11|                 5|                     89|                            10|                       78|2023-10-24 06:57:04|   english|                My friend who I p...|2023-08-15 23:34:58|2023-08-15 23:34:58|         1|     367|         19|          0.8756504|           11|          true|            false|                      false|\n",
      "|       144265671|   10|Counter-Strike|76561198223285668|                     3|                 3|                    311|                             0|                      311|2015-08-25 09:02:53|    polish|                Kiedyś to było ni...|2023-08-15 10:40:18|2023-08-15 10:40:18|         1|       0|          0|                0.0|            0|         false|            false|                      false|\n",
      "|       143981357|   10|Counter-Strike|76561199109653103|                    34|                 4|                  26507|                            40|                    25856|2023-10-24 13:55:43|   english|                good old game tha...|2023-08-12 06:07:51|2023-08-12 06:07:51|         1|       0|          0|                0.0|            0|          true|            false|                      false|\n",
      "|       143122421|   10|Counter-Strike|76561199090498813|                    37|                 3|                     40|                             0|                       38|2023-09-01 19:48:46|   english|                     Shit goes crazy|2023-07-30 23:05:16|2023-07-30 23:05:16|         1|       0|          0|                0.0|            0|          true|            false|                      false|\n",
      "|       143036919|   10|Counter-Strike|76561198359988322|                    30|                 2|                   3498|                             0|                     2833|2023-08-25 14:13:42|   russian|                                 топ|2023-07-29 14:43:17|2023-07-29 14:43:17|         1|       0|          0|                0.0|            0|          true|            false|                      false|\n",
      "|       142959892|   10|Counter-Strike|76561199097487917|                     0|                10|                    755|                             7|                      660|2023-10-16 06:27:16|   russian|                Игра легенда!!  Л...|2023-07-28 10:52:17|2023-07-28 10:52:17|         1|       0|          0|                0.0|            0|          true|             true|                      false|\n",
      "|       142956861|   10|Counter-Strike|76561199181435439|                    19|                10|                     81|                             1|                       80|2023-10-19 00:14:41|  schinese|       控制台快速换枪代码 hud_fas...|2023-07-28 10:00:59|2023-07-28 10:00:59|         1|       0|          0|                0.0|            0|          true|            false|                      false|\n",
      "|       142788623|   10|Counter-Strike|76561199120413682|                     3|                 1|                  37221|                             0|                    35294|2023-08-21 20:09:53|   english|                                  gf|2023-07-25 15:27:55|2023-07-25 15:27:55|         1|       0|          0|                0.0|            0|          true|            false|                      false|\n",
      "|       142493635|   10|Counter-Strike|76561197983561499|                    21|                 1|                   8063|                             0|                     8063|2012-12-12 03:00:00|   russian|                                  <3|2023-07-20 18:36:40|2023-07-20 18:36:40|         1|       0|          1|                0.0|            0|         false|            false|                      false|\n",
      "|       142415899|   10|Counter-Strike|76561198333500144|                     5|                 2|                     17|                             0|                       17|2016-09-28 12:27:55|  schinese|                                 000|2023-07-19 12:49:55|2023-07-19 12:49:55|         1|       0|          0|                0.0|            0|          true|            false|                      false|\n",
      "|       142373010|   10|Counter-Strike|76561197978365937|                     0|                 2|                    398|                             0|                      396|2023-07-18 21:05:16|   russian|                крутая игра чтобы...|2023-07-18 19:47:37|2023-07-18 19:47:37|         1|       0|          0|                0.0|            0|         false|            false|                      false|\n",
      "|       142306044|   10|Counter-Strike|76561198964266906|                    16|                 2|                  16099|                            45|                     2272|2023-10-21 21:45:59|   spanish|                                  :)|2023-07-17 22:50:53|2023-07-17 22:50:53|         1|       0|          0|                0.0|            0|          true|            false|                      false|\n",
      "|       142228424|   10|Counter-Strike|76561197962192217|                     0|                 2|                  43858|                             0|                    42819|2023-08-04 11:06:16|   english|                HE JUST RECOMMEND...|2023-07-16 17:24:57|2023-07-16 17:24:57|         1|       0|          0|                0.0|            0|         false|             true|                      false|\n",
      "|       142188955|   10|Counter-Strike|76561199121047998|                     0|                 1|                 177893|                             0|                   149443|2023-10-05 15:25:55|  romanian|                                 tot|2023-07-16 05:51:56|2023-07-16 05:51:56|         1|       0|          0|                0.0|            0|          true|            false|                      false|\n",
      "|       142161190|   10|Counter-Strike|76561199330076118|                     0|                 2|                  12938|                           504|                    12295|2023-10-16 13:07:44|   english|                this shit is the ...|2023-07-15 18:32:05|2023-07-15 18:32:05|         1|       0|          0|                0.0|            0|          true|            false|                      false|\n",
      "|       142044691|   10|Counter-Strike|76561199019319879|                    10|                 1|                  37881|                             0|                    13166|2023-08-30 02:18:05|   russian|                  Классная стратегия|2023-07-14 04:11:11|2023-07-14 04:11:11|         1|       0|          0|                0.0|            0|          true|            false|                      false|\n",
      "|       141985637|   10|Counter-Strike|76561198332441637|                     0|                 1|                  40125|                           365|                    35280|2023-10-24 14:36:37|  schinese|                                好玩|2023-07-13 09:29:09|2023-07-13 09:29:09|         1|       0|          0|                0.0|            0|          true|            false|                      false|\n",
      "|       141918888|   10|Counter-Strike|76561199121443031|                    37|                27|                    683|                            46|                      213|2023-10-22 10:55:58| brazilian|                Um classico dos j...|2023-07-12 13:12:52|2023-10-06 17:56:39|         1|       1|          0|                0.0|            2|          true|            false|                      false|\n",
      "|       141883028|   10|Counter-Strike|76561199286394224|                    18|                 4|                   2050|                             0|                     1551|2023-09-22 15:58:56|   spanish|                KE JUEGAZOOO como...|2023-07-12 01:17:40|2023-07-12 01:17:40|         1|       0|          0|                0.0|            0|          true|            false|                      false|\n",
      "|       141749337|   10|Counter-Strike|76561199260234456|                     0|                 2|                   1147|                             0|                      732|2023-09-07 10:39:05|   turkish|                delikanlı adam oy...|2023-07-10 06:33:23|2023-07-10 06:33:23|         1|       1|          0|                0.0|            0|         false|            false|                      false|\n",
      "|       141678106|   10|Counter-Strike|76561199133330687|                    45|                24|                   3831|                            32|                     3292|2023-10-22 12:57:11|   russian|                               КАЕФ |2023-07-09 08:51:43|2023-07-09 08:51:43|         1|       0|          0|                0.0|            0|          true|            false|                      false|\n",
      "|       141670690|   10|Counter-Strike|76561199476841684|                     0|                 1|                    569|                             0|                      301|2023-10-10 13:38:41|   english|                          ale tkuje |2023-07-09 06:42:48|2023-07-09 06:42:48|         1|       0|          0|                0.0|            0|         false|            false|                      false|\n",
      "|       141648165|   10|Counter-Strike|76561199181264748|                     6|                 1|                   2293|                           112|                      261|2023-10-25 19:25:07|   spanish|                            Epico :D|2023-07-08 22:58:56|2023-07-08 22:58:56|         1|       1|          0|         0.52380955|            0|          true|            false|                      false|\n",
      "|       141439082|   10|Counter-Strike|76561199015927046|                    67|                 9|                  11483|                             0|                      193|2023-10-11 11:18:07|   turkish|                vay amk benden ya...|2023-07-06 07:08:43|2023-07-06 07:08:43|         1|       0|          0|                0.0|            0|          true|            false|                      false|\n",
      "|       141117279|   10|Counter-Strike|76561199097180627|                    18|                 3|                    259|                             0|                      180|2023-07-08 10:05:47|   russian|                Конечно! Игра дет...|2023-07-02 05:18:11|2023-07-02 05:18:11|         1|       0|          1|                0.0|            0|          true|            false|                      false|\n",
      "|       141063046|   10|Counter-Strike|76561199509244631|                     0|                 3|                  67260|                             0|                     1427|2023-10-03 12:28:56|   russian|                Не затянуло, но р...|2023-07-01 12:27:26|2023-08-06 12:07:09|         1|     162|         28|          0.8633688|            2|          true|            false|                      false|\n",
      "|       140848982|   10|Counter-Strike|76561199054976273|                    49|                14|                  26850|                           845|                    21667|2023-10-26 09:33:58|  schinese|                   曾经的fps游戏巅峰|2023-06-28 10:02:32|2023-06-28 10:02:32|         1|       9|          0|          0.5808637|            0|          true|            false|                      false|\n",
      "|       140822368|   10|Counter-Strike|76561198369142923|                    39|                 2|                   1112|                             0|                     1091|2023-06-27 21:25:58|   russian|                скоро научусь игр...|2023-06-27 21:05:00|2023-06-27 21:05:00|         1|       0|          0|                0.0|            0|          true|            false|                      false|\n",
      "|       140333793|   10|Counter-Strike|76561198996359808|                    10|                 9|                    218|                             0|                      195|2023-06-20 14:26:02| ukrainian|                Counter-Strike - ...|2023-06-19 09:56:32|2023-06-19 09:56:32|         1|       5|          0|         0.56507415|            0|         false|            false|                      false|\n",
      "|       140164359|   10|Counter-Strike|76561198858275848|                     0|                 2|                  33671|                             0|                    32967|2023-10-10 18:52:31| brazilian|                                 ...|2023-06-16 11:51:18|2023-06-16 11:51:18|         1|       0|          0|                0.0|            0|          true|            false|                      false|\n",
      "|       140146450|   10|Counter-Strike|76561199109761077|                    52|                 8|                   4101|                           208|                     2150|2023-10-26 12:39:44|   russian|                          настальгия|2023-06-16 04:26:42|2023-06-16 04:26:42|         1|       0|          0|                0.0|            0|          true|            false|                      false|\n",
      "|       140124560|   10|Counter-Strike|76561199228648109|                    40|                 8|                 201222|                         17749|                    89765|2023-10-26 15:22:33|   english|                                 PGL|2023-06-15 17:20:32|2023-06-15 17:20:32|         1|       0|          0|                0.0|            0|          true|            false|                      false|\n",
      "|       140046733|   10|Counter-Strike|76561199260089329|                    87|                18|                    799|                             0|                      600|2023-10-01 12:11:39|portuguese|                \"[GRÁFICOS] ☐ Pai...|               NULL|2023-06-14 09:29:46|1686749386|       1|          0|                0.0|            0|         false|             true|                      false|\n",
      "|       139998821|   10|Counter-Strike|76561199012588242|                     0|                30|                     71|                             0|                       71|2021-11-11 14:03:12|   spanish|                            ta fasha|2023-06-13 11:15:41|2023-06-13 11:15:41|         1|       0|          0|                0.0|            0|         false|            false|                      false|\n",
      "|       139964186|   10|Counter-Strike|76561199502786088|                     0|                 1|                  34249|                          2905|                     7581|2023-10-25 22:33:43| brazilian|                Muito bom gostei ...|2023-06-12 16:26:42|2023-06-12 16:26:42|         1|       0|          0|                0.0|            0|          true|            false|                      false|\n",
      "|       139942404|   10|Counter-Strike|76561199465251343|                     3|                 1|                 101625|                             0|                    60050|2023-08-24 17:37:21|  romanian|                                 tot|2023-06-12 09:37:49|2023-06-12 09:37:49|         1|       0|          0|                0.0|            0|          true|            false|                      false|\n",
      "|       139594861|   10|Counter-Strike|76561199466920605|                    49|                45|                  19413|                          1748|                    12420|2023-10-22 07:24:37|   turkish|                            ÇOK İYİİ|2023-06-05 11:12:04|2023-06-05 11:12:04|         1|       0|          0|                0.0|            0|         false|            false|                      false|\n",
      "|       139381157|   10|Counter-Strike|76561199203475019|                   118|                17|                  17713|                          5799|                    11913|2023-10-17 17:46:21|   english|                    Best game. Ever.|2023-06-01 13:17:30|2023-06-01 13:17:30|         1|       0|          0|                0.0|            0|          true|            false|                      false|\n",
      "|       139327504|   10|Counter-Strike|76561198134711956|                     0|                 1|                  23104|                             0|                    22943|2023-07-22 09:00:28|   english|                Dear Valve, Thank...|2023-05-31 12:51:57|2023-05-31 12:51:57|         1|       0|          0|                0.0|            0|          true|            false|                      false|\n",
      "|       139323142|   10|Counter-Strike|76561198015955877|                     0|               123|                   1025|                             0|                      176|2023-07-26 04:58:26|   english|                Back when the gun...|2023-05-31 11:17:07|2023-05-31 11:17:07|         1|       0|          0|                0.0|            0|          true|            false|                      false|\n",
      "|       139265393|   10|Counter-Strike|76561198119168917|                     0|                 1|                   1880|                             0|                     1878|2023-05-30 09:44:00| norwegian|                          kult spill|2023-05-30 09:41:51|2023-05-30 09:41:51|         1|       0|          0|                0.0|            0|          true|            false|                      false|\n",
      "|       139234373|   10|Counter-Strike|76561198452699257|                     0|                 3|                   2667|                            66|                     1454|2023-10-25 21:41:47|   spanish|                   Simplemente épico|2023-05-29 16:54:58|2023-05-29 16:54:58|         1|       1|          0|          0.5192308|            0|          true|            false|                      false|\n",
      "|       139172550|   10|Counter-Strike|76561199498637152|                    28|                 6|                     39|                             5|                       33|2023-10-21 15:15:55|   turkish|                oyunun eski tadı ...|2023-05-28 15:10:35|2023-05-28 15:10:35|         1|       0|          0|                0.0|            0|          true|            false|                      false|\n",
      "|       139155380|   10|Counter-Strike|76561198054596416|                     6|                 2|                 131039|                            51|                   126013|2023-10-16 14:14:06| brazilian|                           Muito bom|2023-05-28 09:48:12|2023-05-28 09:48:12|         1|       0|          0|                0.0|            0|         false|            false|                      false|\n",
      "|       139027764|   10|Counter-Strike|76561198849755012|                     0|                 1|                  65200|                             0|                    63402|2023-08-17 02:29:06|   russian|                         Чёткая игра|2023-05-26 11:57:12|2023-05-26 11:57:12|         1|       0|          0|                0.0|            0|          true|            false|                      false|\n",
      "|       138817720|   10|Counter-Strike|76561199368047801|                   288|               187|                   6058|                             0|                     6057|2023-06-16 17:47:55|   english|                Here I will leave...|2023-05-23 02:51:35|2023-05-23 02:51:35|         1|     218|         16|          0.8288827|            0|          true|            false|                      false|\n",
      "|       138744085|   10|Counter-Strike|76561197964010609|                     0|                11|                  13799|                             0|                      656|2023-06-25 17:02:20|   italian|                                   .|2023-05-22 03:29:48|2023-05-22 03:29:48|         1|       0|          0|                0.0|            0|         false|            false|                      false|\n",
      "|       138588967|   10|Counter-Strike|76561199237139557|                     6|                 1|                   1986|                             0|                       19|2023-09-08 01:28:17|  schinese|                  最好的CS最好的时代|2023-05-20 00:33:46|2023-05-20 00:33:46|         1|       0|          0|                0.0|            0|          true|            false|                      false|\n",
      "|       138470756|   10|Counter-Strike|76561198204729912|                     0|                 1|                  16519|                           398|                     3605|2023-10-24 13:28:45|   english|                  still best cs game|2023-05-18 01:28:40|2023-05-18 01:28:40|         1|       1|          0|         0.52380955|            0|          true|            false|                      false|\n",
      "|       138356728|   10|Counter-Strike|76561198844043976|                    11|                 6|                   3992|                             0|                     3942|2023-06-09 19:03:38|   english|                      please add sex|2023-05-15 17:51:44|2023-05-15 17:51:44|         1|      60|         24|         0.71664625|            0|         false|            false|                      false|\n",
      "|       138045046|   10|Counter-Strike|76561198273311526|                     0|                 2|                  19586|                             0|                    11390|2023-08-11 16:33:00|   russian|                Шикарная игра вре...|2023-05-09 09:08:43|2023-05-09 09:08:43|         1|       0|          0|                0.0|            0|          true|            false|                      false|\n",
      "|       138042291|   10|Counter-Strike|76561198801901155|                     5|                 1|                   5008|                             0|                     4169|2023-08-20 14:24:20|  schinese|                66666666666666666...|2023-05-09 07:41:41|2023-05-09 07:41:41|         1|       0|          0|                0.0|            0|          true|             true|                      false|\n",
      "|       137904668|   10|Counter-Strike|76561198372678728|                     0|                 6|                    888|                             2|                      883|2023-10-14 15:14:51| hungarian|                Imádom ezt a játé...|2023-05-06 16:37:16|2023-05-06 16:37:16|         1|       0|          0|                0.0|            0|          true|            false|                      false|\n",
      "|       137875475|   10|Counter-Strike|76561199056555174|                    34|                 3|                   1028|                             0|                      755|2023-10-07 07:03:30|   english|                           nostalgia|2023-05-06 06:53:57|2023-05-06 06:53:57|         1|       0|          0|                0.0|            0|          true|            false|                      false|\n",
      "|       137602033|   10|Counter-Strike|76561199386853986|                    26|                30|                     87|                             0|                       19|2023-05-10 03:36:09|   english|                I really like Cou...|2023-05-01 03:38:33|2023-05-01 03:38:33|         1|       0|          0|                0.0|            0|          true|            false|                      false|\n",
      "|       137429255|   10|Counter-Strike|76561199422524142|                    21|                 1|                    634|                             0|                      634|2023-02-13 15:01:53|   russian|                саня и артём два ...|2023-04-28 12:19:39|2023-04-28 12:19:39|         1|       0|          0|                0.0|            0|         false|            false|                      false|\n",
      "|       137414844|   10|Counter-Strike|76561198081640228|                  1246|                35|                      9|                             0|                        9|2020-08-06 09:27:54|  schinese|非常经典的游戏，当年网吧里连坐，”...|2023-04-28 07:02:29|2023-04-28 07:02:29|         1|     217|          2|         0.91731775|            0|          true|            false|                      false|\n",
      "|       137011151|   10|Counter-Strike|76561198081464818|                     0|                 3|                  19160|                             0|                    18843|2023-09-24 10:19:47|   russian|                          nostalgija|2023-04-20 12:23:52|2023-04-20 12:23:52|         1|       0|          0|                0.0|            0|          true|            false|                      false|\n",
      "|       136234812|   10|Counter-Strike|76561199479924277|                    10|                 6|                    426|                             0|                      242|2023-07-11 13:43:37|   russian|                          топ игра  |2023-04-06 18:10:47|2023-04-06 18:10:47|         1|       0|          0|                0.0|            0|          true|            false|                      false|\n",
      "|       136210048|   10|Counter-Strike|76561199237398165|                    15|                 6|                 142220|                          4783|                    51924|2023-10-26 06:28:24|   spanish|                     Best games ever|2023-04-06 10:23:37|2023-04-06 10:23:37|         1|       0|          0|                0.0|            0|          true|             true|                      false|\n",
      "|       136065128|   10|Counter-Strike|76561198945721390|                     9|                 1|                   6652|                             0|                     6173|2023-09-28 16:31:12|   spanish|                          está cheto|2023-04-03 21:08:03|2023-04-03 21:08:03|         1|       0|          0|                0.0|            0|          true|            false|                      false|\n",
      "|       135980769|   10|Counter-Strike|76561199403449032|                    16|                 2|                  28595|                             2|                    18191|2023-10-20 16:53:54|   turkish|                                iyi |2023-04-02 15:12:35|2023-04-02 15:12:35|         1|       0|          0|                0.0|            0|          true|            false|                      false|\n",
      "|       135740400|   10|Counter-Strike|76561198129955429|                     0|                 3|                  32600|                            10|                    32584|2023-10-15 09:57:59|    german|                Seit 20 Jahren, i...|2023-03-30 10:03:54|2023-03-30 10:03:54|         1|       0|          0|                0.0|            0|         false|            false|                      false|\n",
      "|       135446585|   10|Counter-Strike|76561198823614333|                     0|                 1|                  24808|                             0|                    24688|2023-06-09 23:26:19|   spanish|                                 lol|2023-03-26 00:03:26|2023-03-26 00:03:26|         1|       0|          0|                0.0|            0|          true|            false|                      false|\n",
      "+----------------+-----+--------------+-----------------+----------------------+------------------+-----------------------+------------------------------+-------------------------+-------------------+----------+------------------------------------+-------------------+-------------------+----------+--------+-----------+-------------------+-------------+--------------+-----------------+---------------------------+\n",
      "only showing top 100 rows\n",
      "\n"
     ]
    }
   ],
   "source": [
    "df_dtypes_changed.show(100)"
   ]
  },
  {
   "cell_type": "code",
   "execution_count": null,
   "id": "cad8983a-4edc-4d9c-89e9-cae97cec4162",
   "metadata": {},
   "outputs": [],
   "source": []
  },
  {
   "cell_type": "code",
   "execution_count": null,
   "id": "c5cf5f1e-ae7a-4434-8933-29ea8c5eef7a",
   "metadata": {},
   "outputs": [],
   "source": []
  },
  {
   "cell_type": "code",
   "execution_count": null,
   "id": "62278149-9ed8-48fa-9443-49dded4f3e81",
   "metadata": {},
   "outputs": [],
   "source": []
  },
  {
   "cell_type": "code",
   "execution_count": null,
   "id": "7c5e90e7-fbe3-4dc1-bb4e-bdf52559e4f6",
   "metadata": {},
   "outputs": [],
   "source": []
  },
  {
   "cell_type": "code",
   "execution_count": null,
   "id": "591085f1-05ed-47b5-b42a-bd41ac3d1cf7",
   "metadata": {},
   "outputs": [],
   "source": []
  },
  {
   "cell_type": "code",
   "execution_count": null,
   "id": "e103a42a-0572-43ac-85bb-c7d8c19d19a3",
   "metadata": {},
   "outputs": [],
   "source": []
  },
  {
   "cell_type": "code",
   "execution_count": null,
   "id": "f1834d49-6ce8-484b-a037-78e5bff6decc",
   "metadata": {},
   "outputs": [],
   "source": []
  },
  {
   "cell_type": "code",
   "execution_count": null,
   "id": "3b270a07-e3a2-493d-908a-56ee670f36a5",
   "metadata": {},
   "outputs": [],
   "source": []
  },
  {
   "cell_type": "code",
   "execution_count": 7,
   "id": "7289ee1b-3048-47ae-bdd4-140113cd0797",
   "metadata": {},
   "outputs": [],
   "source": [
    "from pyspark.sql.functions import col, countDistinct, desc, isnan, when, count\n",
    "\n",
    "def analyze_string_columns_for_conversion(df, columns):\n",
    "    \"\"\"\n",
    "    Analyze string columns before conversion to identify potential issues\n",
    "    \n",
    "    Parameters:\n",
    "    df (DataFrame): The PySpark DataFrame to analyze\n",
    "    columns (list): List of column names to analyze\n",
    "    \"\"\"\n",
    "    for column in columns:\n",
    "        print(f\"\\n{'='*80}\")\n",
    "        print(f\"ANALYSIS FOR COLUMN: {column}\")\n",
    "        print(f\"{'='*80}\")\n",
    "        \n",
    "        # 1. Count total unique values\n",
    "        unique_count = df.select(countDistinct(col(column))).collect()[0][0]\n",
    "        print(f\"Total unique values: {unique_count}\")\n",
    "        \n",
    "        # 2. Count null or empty strings\n",
    "        null_empty_count = df.filter((col(column).isNull()) | (col(column) == \"\") | (col(column).rlike('^\\\\s*$'))).count()\n",
    "        print(f\"Count of null or empty strings: {null_empty_count}\")\n",
    "        \n",
    "        # 3. Show sample unique values (up to 20)\n",
    "        unique_values = df.select(column).distinct().limit(20).rdd.flatMap(lambda x: x).collect()\n",
    "        print(f\"Sample unique values (up to 20): {unique_values}\")\n",
    "        \n",
    "        # 4. Show top 10 most frequent values\n",
    "        print(\"Top 10 most frequent values:\")\n",
    "        df.groupBy(column).count().orderBy(desc(\"count\")).limit(20).show(truncate=False)\n",
    "        \n",
    "        # 5. Check for non-convertible values based on target data type\n",
    "        if column in [\"voted_up\", \"steam_purchase\", \"received_for_free\", \"written_during_early_access\"]:\n",
    "            # Boolean columns - check for values other than 0, 1, true, false, etc.\n",
    "            non_bool_values = df.filter(\n",
    "                ~col(column).isNull() & \n",
    "                ~col(column).rlike(\"^(0|1|true|false|t|f|yes|no|y|n)$\")\n",
    "            )\n",
    "            non_bool_count = non_bool_values.count()\n",
    "            print(f\"Values that may not convert to boolean: {non_bool_count}\")\n",
    "            if non_bool_count > 0:\n",
    "                print(\"Sample problematic values:\")\n",
    "                non_bool_values.select(column).distinct().limit(10).show(truncate=False)\n",
    "                \n",
    "        elif column in [\"votes_up\", \"votes_funny\", \"comment_count\"]:\n",
    "            # Integer columns - check for non-numeric values\n",
    "            non_int_values = df.filter(\n",
    "                ~col(column).isNull() & \n",
    "                ~col(column).rlike(\"^-?\\\\d+$\")\n",
    "            )\n",
    "            non_int_count = non_int_values.count()\n",
    "            print(f\"Values that may not convert to integer: {non_int_count}\")\n",
    "            if non_int_count > 0:\n",
    "                print(\"Sample problematic values:\")\n",
    "                non_int_values.select(column).distinct().limit(10).show(truncate=False)\n",
    "                \n",
    "        elif column == \"weighted_vote_score\":\n",
    "            # Float column - check for non-numeric values\n",
    "            non_float_values = df.filter(\n",
    "                ~col(column).isNull() & \n",
    "                ~col(column).rlike(\"^-?\\\\d+(\\\\.\\\\d*)?$\")\n",
    "            )\n",
    "            non_float_count = non_float_values.count()\n",
    "            print(f\"Values that may not convert to float: {non_float_count}\")\n",
    "            if non_float_count > 0:\n",
    "                print(\"Sample problematic values:\")\n",
    "                non_float_values.select(column).distinct().limit(10).show(truncate=False)\n",
    "        \n",
    "        # 6. Check for leading/trailing whitespace\n",
    "        whitespace_values = df.filter(\n",
    "            ~col(column).isNull() & \n",
    "            ((col(column) != trim(col(column))))\n",
    "        )\n",
    "        whitespace_count = whitespace_values.count()\n",
    "        print(f\"Values with leading/trailing whitespace: {whitespace_count}\")\n",
    "        \n",
    "        # 7. Check for special characters that might cause issues\n",
    "        special_char_values = df.filter(\n",
    "            ~col(column).isNull() & \n",
    "            col(column).rlike(\"[^a-zA-Z0-9\\\\s\\\\.-]\")\n",
    "        )\n",
    "        special_char_count = special_char_values.count()\n",
    "        print(f\"Values with special characters: {special_char_count}\")\n",
    "\n"
   ]
  },
  {
   "cell_type": "code",
   "execution_count": 8,
   "id": "625e27f6-7869-49cb-884a-d3a13f28b66e",
   "metadata": {},
   "outputs": [],
   "source": [
    "# 5. Drop function\n",
    "def drop_null_records(df, column_name):\n",
    "    \"\"\"\n",
    "    Drop records where the specified column has null values\n",
    "    \"\"\"\n",
    "    # Check if column exists\n",
    "    if column_name not in df.columns:\n",
    "        print(f\"Column '{column_name}' not found in the dataframe.\")\n",
    "        return df\n",
    "    \n",
    "    # Count before dropping\n",
    "    count_before = df.count()\n",
    "    \n",
    "    # Drop null records for the specified column\n",
    "    column_type = dict(df.dtypes)[column_name]\n",
    "    \n",
    "    if column_type in ['double', 'float']:\n",
    "        df_cleaned = df.filter(~(col(column_name).isNull() | isnan(col(column_name))))\n",
    "    elif column_type == 'string':\n",
    "        df_cleaned = df.filter(~(col(column_name).isNull() | (col(column_name) == \"\")))\n",
    "    else:\n",
    "        df_cleaned = df.filter(col(column_name).isNotNull())\n",
    "    \n",
    "    # Count after dropping\n",
    "    count_after = df_cleaned.count()\n",
    "    \n",
    "    print(f\"Dropped {count_before - count_after} records where '{column_name}' is null.\")\n",
    "    print(f\"Records before: {count_before}, Records after: {count_after}\")\n",
    "    \n",
    "    return df_cleaned\n",
    "\n"
   ]
  },
  {
   "cell_type": "code",
   "execution_count": null,
   "id": "c7c3469e-bf72-4820-a974-b2a37aff7bbe",
   "metadata": {},
   "outputs": [],
   "source": []
  },
  {
   "cell_type": "code",
   "execution_count": null,
   "id": "53614ac7-6aba-4569-9e10-180b54e2e9f8",
   "metadata": {},
   "outputs": [],
   "source": []
  },
  {
   "cell_type": "code",
   "execution_count": null,
   "id": "438e0474-7ffe-4050-9862-b18f1ca1d7c1",
   "metadata": {},
   "outputs": [],
   "source": []
  },
  {
   "cell_type": "code",
   "execution_count": 45,
   "id": "eae432fd-eb39-4d04-8d01-6e3baf4c0094",
   "metadata": {},
   "outputs": [
    {
     "name": "stderr",
     "output_type": "stream",
     "text": [
      "                                                                                \r"
     ]
    },
    {
     "data": {
      "text/plain": [
       "[Row(recommendationid=0, appid=11, game=51, author_steamid=14, author_num_games_owned=20, author_num_reviews=19, author_playtime_forever=16, author_playtime_last_two_weeks=14, author_playtime_at_review=16, author_last_played=16, language=15, review=15, timestamp_created=25949, timestamp_updated=21078, voted_up=233, votes_up=15369, votes_funny=13523, weighted_vote_score=12022, comment_count=10759, steam_purchase=16461, received_for_free=14143, written_during_early_access=12414)]"
      ]
     },
     "execution_count": 45,
     "metadata": {},
     "output_type": "execute_result"
    }
   ],
   "source": [
    "null_counts = check_null_values(df_dtypes_changed)\n",
    "null_counts.head(50)"
   ]
  },
  {
   "cell_type": "markdown",
   "id": "f28adbfa-6e34-4404-a931-47ec6ed440d8",
   "metadata": {},
   "source": [
    "### Here we do ANALYSIS"
   ]
  },
  {
   "cell_type": "code",
   "execution_count": 43,
   "id": "1d8420e9-8bb0-4f83-9dee-c75178a5547b",
   "metadata": {},
   "outputs": [
    {
     "name": "stdout",
     "output_type": "stream",
     "text": [
      "\n",
      "================================================================================\n",
      "ANALYSIS FOR COLUMN: game\n",
      "================================================================================\n"
     ]
    },
    {
     "name": "stderr",
     "output_type": "stream",
     "text": [
      "                                                                                \r"
     ]
    },
    {
     "name": "stdout",
     "output_type": "stream",
     "text": [
      "Total unique values: 31933\n"
     ]
    },
    {
     "name": "stderr",
     "output_type": "stream",
     "text": [
      "                                                                                \r"
     ]
    },
    {
     "name": "stdout",
     "output_type": "stream",
     "text": [
      "Count of null or empty strings: 51\n",
      "Sample unique values (up to 20): ['Warhammer: Chaosbane - Gold Boost', 'Smile For Me', 'Warhammer 40,000: Inquisitor - Prophecy', 'Combate Monero', 'KATANA KAMI: A Way of the Samurai Story ', 'Just Cause™ 4: Sea Dogs Vehicle Pack', 'Survive on Raft', '100% Orange Juice - Sora & Sham (Cuties) Character Pack', 'Sweet Dream Succubus - Nightmare Edition', 'Eleanor 3', 'The Legend of Bum-Bo', 'EEP 16 Expert', 'Atelier Ayesha: The Alchemist of Dusk DX', 'Kingdom Shell', 'Unlock The King', 'Cats are Liquid - A Better Place', 'Growing Up', 'Making Lovers', 'Music Visualizer Engine PC Live Wallpaper', 'Coromon']\n",
      "Top 10 most frequent values:\n",
      "+------------------------------+-----+\n",
      "|game                          |count|\n",
      "+------------------------------+-----+\n",
      "|Counter-Strike 2              |67531|\n",
      "|PUBG: BATTLEGROUNDS           |19717|\n",
      "|Grand Theft Auto V            |14566|\n",
      "|Terraria                      |10541|\n",
      "|Tom Clancy's Rainbow Six Siege|10484|\n",
      "|Garry's Mod                   |8931 |\n",
      "|Team Fortress 2               |8714 |\n",
      "|Rust                          |8489 |\n",
      "|Left 4 Dead 2                 |6886 |\n",
      "|ELDEN RING                    |6448 |\n",
      "|Apex Legends                  |6358 |\n",
      "|The Witcher 3: Wild Hunt      |6353 |\n",
      "|Wallpaper Engine              |6203 |\n",
      "|Dead by Daylight              |6081 |\n",
      "|Cyberpunk 2077                |5851 |\n",
      "|Among Us                      |5839 |\n",
      "|ARK: Survival Evolved         |5802 |\n",
      "|Euro Truck Simulator 2        |5773 |\n",
      "|PAYDAY 2                      |5691 |\n",
      "|Stardew Valley                |5439 |\n",
      "+------------------------------+-----+\n",
      "\n",
      "Values with leading/trailing whitespace: 5227\n"
     ]
    },
    {
     "name": "stderr",
     "output_type": "stream",
     "text": [
      "[Stage 373:============================>                            (1 + 1) / 2]\r"
     ]
    },
    {
     "name": "stdout",
     "output_type": "stream",
     "text": [
      "Values with special characters: 297660\n"
     ]
    },
    {
     "name": "stderr",
     "output_type": "stream",
     "text": [
      "                                                                                \r"
     ]
    }
   ],
   "source": [
    "columns_to_analyze = [\n",
    "    \"game\"\n",
    "]\n",
    "analyze_string_columns_for_conversion(df, columns_to_analyze)\n"
   ]
  },
  {
   "cell_type": "code",
   "execution_count": null,
   "id": "65213a31-d474-4475-9a4f-763e8165ab3a",
   "metadata": {},
   "outputs": [],
   "source": []
  },
  {
   "cell_type": "code",
   "execution_count": null,
   "id": "89e8fcb8-3232-4f66-8cb9-d5641078f1ea",
   "metadata": {},
   "outputs": [],
   "source": []
  },
  {
   "cell_type": "code",
   "execution_count": null,
   "id": "d251985b-cf3f-4208-b655-92ad0523e2e4",
   "metadata": {},
   "outputs": [],
   "source": []
  },
  {
   "cell_type": "code",
   "execution_count": 44,
   "id": "4f2bd08e-94dd-4e4c-bb22-fcabcbeac029",
   "metadata": {},
   "outputs": [
    {
     "name": "stdout",
     "output_type": "stream",
     "text": [
      "\n",
      "================================================================================\n",
      "ANALYSIS FOR COLUMN: game\n",
      "================================================================================\n",
      "Total unique values: 31933\n",
      "Count of null or empty strings: 51\n",
      "Sample unique values (up to 20): ['Warhammer: Chaosbane - Gold Boost', 'Smile For Me', 'Warhammer 40,000: Inquisitor - Prophecy', 'Combate Monero', 'KATANA KAMI: A Way of the Samurai Story ', 'Just Cause™ 4: Sea Dogs Vehicle Pack', 'Survive on Raft', '100% Orange Juice - Sora & Sham (Cuties) Character Pack', 'Sweet Dream Succubus - Nightmare Edition', 'Eleanor 3', 'The Legend of Bum-Bo', 'EEP 16 Expert', 'Atelier Ayesha: The Alchemist of Dusk DX', 'Kingdom Shell', 'Unlock The King', 'Cats are Liquid - A Better Place', 'Growing Up', 'Making Lovers', 'Music Visualizer Engine PC Live Wallpaper', 'Coromon']\n",
      "Top 10 most frequent values:\n",
      "+------------------------------+-----+\n",
      "|game                          |count|\n",
      "+------------------------------+-----+\n",
      "|Counter-Strike 2              |67531|\n",
      "|PUBG: BATTLEGROUNDS           |19717|\n",
      "|Grand Theft Auto V            |14566|\n",
      "|Terraria                      |10541|\n",
      "|Tom Clancy's Rainbow Six Siege|10484|\n",
      "|Garry's Mod                   |8931 |\n",
      "|Team Fortress 2               |8714 |\n",
      "|Rust                          |8489 |\n",
      "|Left 4 Dead 2                 |6886 |\n",
      "|ELDEN RING                    |6448 |\n",
      "|Apex Legends                  |6358 |\n",
      "|The Witcher 3: Wild Hunt      |6353 |\n",
      "|Wallpaper Engine              |6203 |\n",
      "|Dead by Daylight              |6081 |\n",
      "|Cyberpunk 2077                |5851 |\n",
      "|Among Us                      |5839 |\n",
      "|ARK: Survival Evolved         |5802 |\n",
      "|Euro Truck Simulator 2        |5773 |\n",
      "|PAYDAY 2                      |5691 |\n",
      "|Stardew Valley                |5439 |\n",
      "+------------------------------+-----+\n",
      "\n",
      "Values with leading/trailing whitespace: 5227\n"
     ]
    },
    {
     "name": "stderr",
     "output_type": "stream",
     "text": [
      "[Stage 394:============================>                            (1 + 1) / 2]\r"
     ]
    },
    {
     "name": "stdout",
     "output_type": "stream",
     "text": [
      "Values with special characters: 297660\n"
     ]
    },
    {
     "name": "stderr",
     "output_type": "stream",
     "text": [
      "                                                                                \r"
     ]
    }
   ],
   "source": [
    "columns_to_analyze = [\n",
    "    \"game\"\n",
    "]\n",
    "analyze_string_columns_for_conversion(df_dtypes_changed, columns_to_analyze)\n"
   ]
  },
  {
   "cell_type": "code",
   "execution_count": null,
   "id": "beb183f7-3f6f-4ae9-87b6-ca4fd9d2c4b5",
   "metadata": {},
   "outputs": [],
   "source": []
  },
  {
   "cell_type": "code",
   "execution_count": null,
   "id": "be568d52-3211-408c-b565-0a319ac0dfa0",
   "metadata": {},
   "outputs": [],
   "source": []
  },
  {
   "cell_type": "code",
   "execution_count": null,
   "id": "1d269caa-ec0c-4ebf-8514-a2383b51f452",
   "metadata": {},
   "outputs": [],
   "source": []
  },
  {
   "cell_type": "code",
   "execution_count": 142,
   "id": "bf1679a9-9dee-474e-b0dd-a52b772dda70",
   "metadata": {},
   "outputs": [],
   "source": [
    "# column_to_check = \"game\"  # Change this to any column you want to check\n",
    "# print(f\"\\nShowing null samples for column: {column_to_check}\")\n",
    "# null_samples = show_null_samples(df, column_to_check)\n"
   ]
  },
  {
   "cell_type": "code",
   "execution_count": null,
   "id": "c11a08e4-8d34-42b9-958c-febbc255f700",
   "metadata": {},
   "outputs": [],
   "source": []
  },
  {
   "cell_type": "code",
   "execution_count": null,
   "id": "3ab24b6b-eae4-4f04-bbaa-d792876df254",
   "metadata": {},
   "outputs": [],
   "source": []
  },
  {
   "cell_type": "markdown",
   "id": "e5405be7-9113-45f7-a93d-b38abce4449e",
   "metadata": {},
   "source": [
    "### HERE WE DROP THE NULL VALUES FROM A COLUMN"
   ]
  },
  {
   "cell_type": "code",
   "execution_count": 92,
   "id": "c530002f-8633-4953-b8f0-d5df9d0af0bc",
   "metadata": {},
   "outputs": [],
   "source": []
  },
  {
   "cell_type": "code",
   "execution_count": 23,
   "id": "73cc6b69-a76c-4a64-9629-ed51059b4aca",
   "metadata": {},
   "outputs": [
    {
     "name": "stdout",
     "output_type": "stream",
     "text": [
      "\n",
      "--- STEP 5: Dropping null records ---\n"
     ]
    },
    {
     "name": "stderr",
     "output_type": "stream",
     "text": [
      "[Stage 187:============================>                            (1 + 1) / 2]\r"
     ]
    },
    {
     "name": "stdout",
     "output_type": "stream",
     "text": [
      "Dropped 20 records where 'votes_funny' is null.\n",
      "Records before: 978000, Records after: 977980\n"
     ]
    },
    {
     "name": "stderr",
     "output_type": "stream",
     "text": [
      "                                                                                \r"
     ]
    }
   ],
   "source": [
    "print(\"\\n--- STEP 5: Dropping null records ---\")\n",
    "column_to_drop = \"votes_funny\"  # Change this to the column you want to use for dropping\n",
    "df_cleaned = drop_null_records(df_cleaned, column_to_drop)"
   ]
  },
  {
   "cell_type": "code",
   "execution_count": 24,
   "id": "3e65ed20-f448-4a0f-9b57-6505fa12b8ea",
   "metadata": {},
   "outputs": [
    {
     "name": "stderr",
     "output_type": "stream",
     "text": [
      "                                                                                \r"
     ]
    },
    {
     "data": {
      "text/plain": [
       "[Row(recommendationid=0, appid=0, game=0, author_steamid=0, author_num_games_owned=1, author_num_reviews=0, author_playtime_forever=0, author_playtime_last_two_weeks=0, author_playtime_at_review=0, author_last_played=0, language=0, review=0, timestamp_created=0, timestamp_updated=0, voted_up=0, votes_up=0, votes_funny=0, weighted_vote_score=0, comment_count=0, steam_purchase=0, received_for_free=0, written_during_early_access=0)]"
      ]
     },
     "execution_count": 24,
     "metadata": {},
     "output_type": "execute_result"
    }
   ],
   "source": [
    "null_counts = check_null_values(df_cleaned)\n",
    "null_counts.head(50)"
   ]
  },
  {
   "cell_type": "code",
   "execution_count": 36,
   "id": "742d4491-dfa7-4951-8450-9007029e6186",
   "metadata": {},
   "outputs": [
    {
     "name": "stdout",
     "output_type": "stream",
     "text": [
      "\n",
      "================================================================================\n",
      "ANALYSIS FOR COLUMN: timestamp_updated\n",
      "================================================================================\n"
     ]
    },
    {
     "name": "stderr",
     "output_type": "stream",
     "text": [
      "                                                                                \r"
     ]
    },
    {
     "name": "stdout",
     "output_type": "stream",
     "text": [
      "Total unique values: 974774\n"
     ]
    },
    {
     "name": "stderr",
     "output_type": "stream",
     "text": [
      "                                                                                \r"
     ]
    },
    {
     "name": "stdout",
     "output_type": "stream",
     "text": [
      "Count of null or empty strings: 0\n"
     ]
    },
    {
     "name": "stderr",
     "output_type": "stream",
     "text": [
      "                                                                                \r"
     ]
    },
    {
     "name": "stdout",
     "output_type": "stream",
     "text": [
      "Sample unique values (up to 20): ['1620637239', '1618384512', '1609248330', '1590837154', '1537554521', '1527858001', '1505153979', '1493203391', '1511550161', '1450358520', '1391697605', '1336281579', '1696846636', '1631052104', '1548089221', '1614515902', '1514234510', '1625240844', '1625234777', '1631964489']\n",
      "Top 10 most frequent values:\n"
     ]
    },
    {
     "name": "stderr",
     "output_type": "stream",
     "text": [
      "                                                                                \r"
     ]
    },
    {
     "name": "stdout",
     "output_type": "stream",
     "text": [
      "+-----------------+-----+\n",
      "|timestamp_updated|count|\n",
      "+-----------------+-----+\n",
      "|1542902093       |5    |\n",
      "|1606328919       |3    |\n",
      "|1498585473       |3    |\n",
      "|1606336271       |3    |\n",
      "|1606329820       |3    |\n",
      "|1637777554       |3    |\n",
      "|1606378603       |3    |\n",
      "|1669214816       |3    |\n",
      "|1638289580       |3    |\n",
      "|1606335092       |3    |\n",
      "|1388740303       |3    |\n",
      "|1561930979       |3    |\n",
      "|1561803767       |3    |\n",
      "|1684595050       |3    |\n",
      "|1576036074       |3    |\n",
      "|1606344651       |3    |\n",
      "|1606328502       |3    |\n",
      "|1511459801       |3    |\n",
      "|1575130950       |3    |\n",
      "|1606329879       |3    |\n",
      "+-----------------+-----+\n",
      "\n",
      "Values with leading/trailing whitespace: 0\n"
     ]
    },
    {
     "name": "stderr",
     "output_type": "stream",
     "text": [
      "[Stage 345:============================>                            (1 + 1) / 2]\r"
     ]
    },
    {
     "name": "stdout",
     "output_type": "stream",
     "text": [
      "Values with special characters: 0\n"
     ]
    },
    {
     "name": "stderr",
     "output_type": "stream",
     "text": [
      "                                                                                \r"
     ]
    }
   ],
   "source": [
    "columns_to_analyze = [\n",
    "    \"timestamp_updated\"\n",
    "]\n",
    "\n",
    "analyze_string_columns_for_conversion(df_cleaned, columns_to_analyze)"
   ]
  },
  {
   "cell_type": "markdown",
   "id": "a9f8588d-8e67-408c-a965-374ad7d2f711",
   "metadata": {},
   "source": [
    "## TESTING DRIVER CODE"
   ]
  },
  {
   "cell_type": "code",
   "execution_count": 46,
   "id": "aa46bf81-39d0-48b4-8507-acf3cc1dd7cc",
   "metadata": {},
   "outputs": [
    {
     "name": "stderr",
     "output_type": "stream",
     "text": [
      "25/05/13 16:17:35 WARN SparkSession: Using an existing Spark session; only runtime SQL configurations will take effect.\n"
     ]
    },
    {
     "name": "stdout",
     "output_type": "stream",
     "text": [
      "Original Schema:\n",
      "root\n",
      " |-- recommendationid: string (nullable = true)\n",
      " |-- appid: string (nullable = true)\n",
      " |-- game: string (nullable = true)\n",
      " |-- author_steamid: string (nullable = true)\n",
      " |-- author_num_games_owned: string (nullable = true)\n",
      " |-- author_num_reviews: string (nullable = true)\n",
      " |-- author_playtime_forever: string (nullable = true)\n",
      " |-- author_playtime_last_two_weeks: string (nullable = true)\n",
      " |-- author_playtime_at_review: string (nullable = true)\n",
      " |-- author_last_played: string (nullable = true)\n",
      " |-- language: string (nullable = true)\n",
      " |-- review: string (nullable = true)\n",
      " |-- timestamp_created: string (nullable = true)\n",
      " |-- timestamp_updated: string (nullable = true)\n",
      " |-- voted_up: string (nullable = true)\n",
      " |-- votes_up: string (nullable = true)\n",
      " |-- votes_funny: string (nullable = true)\n",
      " |-- weighted_vote_score: string (nullable = true)\n",
      " |-- comment_count: string (nullable = true)\n",
      " |-- steam_purchase: string (nullable = true)\n",
      " |-- received_for_free: string (nullable = true)\n",
      " |-- written_during_early_access: string (nullable = true)\n",
      "\n",
      "Dropping columns: ['author_playtime_last_two_weeks', 'recommendationid', 'appid', 'voted_up']\n",
      "\n",
      "Converted Schema:\n",
      "root\n",
      " |-- game: string (nullable = true)\n",
      " |-- author_steamid: string (nullable = true)\n",
      " |-- author_num_games_owned: integer (nullable = true)\n",
      " |-- author_num_reviews: integer (nullable = true)\n",
      " |-- author_playtime_forever: integer (nullable = true)\n",
      " |-- author_playtime_at_review: integer (nullable = true)\n",
      " |-- author_last_played: timestamp (nullable = true)\n",
      " |-- language: string (nullable = true)\n",
      " |-- review: string (nullable = true)\n",
      " |-- timestamp_created: timestamp (nullable = true)\n",
      " |-- timestamp_updated: timestamp (nullable = true)\n",
      " |-- votes_up: integer (nullable = true)\n",
      " |-- votes_funny: integer (nullable = true)\n",
      " |-- weighted_vote_score: float (nullable = true)\n",
      " |-- comment_count: integer (nullable = true)\n",
      " |-- steam_purchase: boolean (nullable = true)\n",
      " |-- received_for_free: boolean (nullable = true)\n",
      " |-- written_during_early_access: boolean (nullable = true)\n",
      "\n",
      "Null value counts before dropping rows:\n"
     ]
    },
    {
     "name": "stderr",
     "output_type": "stream",
     "text": [
      "                                                                                \r"
     ]
    },
    {
     "name": "stdout",
     "output_type": "stream",
     "text": [
      "+----+--------------+----------------------+------------------+-----------------------+-------------------------+------------------+--------+------+-----------------+-----------------+--------+-----------+-------------------+-------------+--------------+-----------------+---------------------------+\n",
      "|game|author_steamid|author_num_games_owned|author_num_reviews|author_playtime_forever|author_playtime_at_review|author_last_played|language|review|timestamp_created|timestamp_updated|votes_up|votes_funny|weighted_vote_score|comment_count|steam_purchase|received_for_free|written_during_early_access|\n",
      "+----+--------------+----------------------+------------------+-----------------------+-------------------------+------------------+--------+------+-----------------+-----------------+--------+-----------+-------------------+-------------+--------------+-----------------+---------------------------+\n",
      "|51  |14            |20                    |19                |16                     |16                       |16                |15      |15    |25949            |21078            |15369   |13523      |12022              |10759        |16461         |14143            |12414                      |\n",
      "+----+--------------+----------------------+------------------+-----------------------+-------------------------+------------------+--------+------+-----------------+-----------------+--------+-----------+-------------------+-------------+--------------+-----------------+---------------------------+\n",
      "\n"
     ]
    },
    {
     "name": "stderr",
     "output_type": "stream",
     "text": [
      "                                                                                \r"
     ]
    },
    {
     "name": "stdout",
     "output_type": "stream",
     "text": [
      "Dropped 26025 rows with null values\n",
      "Rows before: 999365, Rows after: 973340\n",
      "Null value counts after dropping rows:\n"
     ]
    },
    {
     "name": "stderr",
     "output_type": "stream",
     "text": [
      "                                                                                \r"
     ]
    },
    {
     "name": "stdout",
     "output_type": "stream",
     "text": [
      "+----+--------------+----------------------+------------------+-----------------------+-------------------------+------------------+--------+------+-----------------+-----------------+--------+-----------+-------------------+-------------+--------------+-----------------+---------------------------+\n",
      "|game|author_steamid|author_num_games_owned|author_num_reviews|author_playtime_forever|author_playtime_at_review|author_last_played|language|review|timestamp_created|timestamp_updated|votes_up|votes_funny|weighted_vote_score|comment_count|steam_purchase|received_for_free|written_during_early_access|\n",
      "+----+--------------+----------------------+------------------+-----------------------+-------------------------+------------------+--------+------+-----------------+-----------------+--------+-----------+-------------------+-------------+--------------+-----------------+---------------------------+\n",
      "|0   |0             |0                     |0                 |0                      |0                        |0                 |0       |0     |0                |0                |0       |0          |0                  |0            |0             |0                |0                          |\n",
      "+----+--------------+----------------------+------------------+-----------------------+-------------------------+------------------+--------+------+-----------------+-----------------+--------+-----------+-------------------+-------------+--------------+-----------------+---------------------------+\n",
      "\n",
      "\n",
      "Sample of cleaned data:\n",
      "+--------------+-----------------+----------------------+------------------+-----------------------+-------------------------+-------------------+--------+--------------------+-------------------+-------------------+--------+-----------+-------------------+-------------+--------------+-----------------+---------------------------+\n",
      "|          game|   author_steamid|author_num_games_owned|author_num_reviews|author_playtime_forever|author_playtime_at_review| author_last_played|language|              review|  timestamp_created|  timestamp_updated|votes_up|votes_funny|weighted_vote_score|comment_count|steam_purchase|received_for_free|written_during_early_access|\n",
      "+--------------+-----------------+----------------------+------------------+-----------------------+-------------------------+-------------------+--------+--------------------+-------------------+-------------------+--------+-----------+-------------------+-------------+--------------+-----------------+---------------------------+\n",
      "|Counter-Strike|76561198334618026|                    61|                 9|                   2000|                      733|2023-10-26 11:34:37| russian|        игра на века|2023-10-20 20:24:22|2023-10-20 20:24:22|       0|          0|                0.0|            0|          true|            false|                      false|\n",
      "|Counter-Strike|76561198091390506|                  1052|                 4|                 209651|                   209651|2023-08-22 22:59:10| english|        old but gold|2023-10-19 18:31:49|2023-10-19 18:31:49|       2|          0|         0.52380955|            0|          true|            false|                      false|\n",
      "|Counter-Strike|76561199030849263|                    18|                 2|                   1487|                     1308|2023-10-25 17:42:34| russian|            rrgwegwe|2023-10-17 17:11:40|2023-10-17 17:11:40|       0|          0|                0.0|            0|          true|            false|                      false|\n",
      "|Counter-Strike|76561199498581350|                    25|                10|                    458|                      207|2023-10-21 08:27:30| russian|            КЛАССИКА|2023-10-12 08:13:28|2023-10-12 08:13:28|       0|          0|                0.0|            0|          true|            false|                      false|\n",
      "|Counter-Strike|76561198126494003|                     0|                 8|                    274|                      274|2023-08-29 06:37:00| russian|володя строитель>...|2023-10-04 10:09:28|2023-10-04 10:09:28|       0|          0|                0.0|            0|          true|            false|                      false|\n",
      "+--------------+-----------------+----------------------+------------------+-----------------------+-------------------------+-------------------+--------+--------------------+-------------------+-------------------+--------+-----------+-------------------+-------------+--------------+-----------------+---------------------------+\n",
      "only showing top 5 rows\n",
      "\n"
     ]
    }
   ],
   "source": [
    "from pyspark.sql import SparkSession\n",
    "from pyspark.sql.functions import col, from_unixtime, to_timestamp, count, when, isnan\n",
    "from pyspark.sql.types import IntegerType, FloatType, BooleanType, TimestampType\n",
    "\n",
    "def load_parquet_file(file_path):\n",
    "    \"\"\"\n",
    "    Load the parquet file and return the DataFrame\n",
    "    \"\"\"\n",
    "    # Initialize SparkSession\n",
    "    spark = SparkSession.builder \\\n",
    "        .appName(\"SteamReviewsAnalysis\") \\\n",
    "        .config(\"spark.driver.memory\", \"8g\") \\\n",
    "        .getOrCreate()\n",
    "    \n",
    "    # Load the dataset\n",
    "    df = spark.read.parquet(file_path)\n",
    "    \n",
    "    print(\"Original Schema:\")\n",
    "    df.printSchema()\n",
    "    \n",
    "    return df, spark\n",
    "\n",
    "def drop_columns(df, columns_to_drop):\n",
    "    \"\"\"\n",
    "    Drop specified columns if they exist in the DataFrame\n",
    "    \"\"\"\n",
    "    existing_columns = df.columns\n",
    "    columns_to_drop_existing = [col for col in columns_to_drop if col in existing_columns]\n",
    "    \n",
    "    if columns_to_drop_existing:\n",
    "        print(f\"Dropping columns: {columns_to_drop_existing}\")\n",
    "        df = df.drop(*columns_to_drop_existing)\n",
    "    else:\n",
    "        print(\"None of the specified columns exist in the DataFrame\")\n",
    "    \n",
    "    return df\n",
    "\n",
    "def convert_data_types(df):\n",
    "    \"\"\"\n",
    "    Convert columns to appropriate data types\n",
    "    \"\"\"\n",
    "    df_processed = df \\\n",
    "        .withColumn(\"author_num_games_owned\", col(\"author_num_games_owned\").cast(IntegerType())) \\\n",
    "        .withColumn(\"author_num_reviews\", col(\"author_num_reviews\").cast(IntegerType())) \\\n",
    "        .withColumn(\"author_playtime_forever\", col(\"author_playtime_forever\").cast(IntegerType())) \\\n",
    "        .withColumn(\"author_playtime_at_review\", col(\"author_playtime_at_review\").cast(IntegerType())) \\\n",
    "        .withColumn(\"votes_up\", col(\"votes_up\").cast(IntegerType())) \\\n",
    "        .withColumn(\"votes_funny\", col(\"votes_funny\").cast(IntegerType())) \\\n",
    "        .withColumn(\"weighted_vote_score\", col(\"weighted_vote_score\").cast(FloatType())) \\\n",
    "        .withColumn(\"comment_count\", col(\"comment_count\").cast(IntegerType())) \\\n",
    "        .withColumn(\"steam_purchase\", col(\"steam_purchase\").cast(BooleanType())) \\\n",
    "        .withColumn(\"received_for_free\", col(\"received_for_free\").cast(BooleanType())) \\\n",
    "        .withColumn(\"written_during_early_access\", col(\"written_during_early_access\").cast(BooleanType()))\n",
    "    \n",
    "    # Convert Unix timestamps to proper datetime format\n",
    "    df_processed = df_processed \\\n",
    "        .withColumn(\"author_last_played\", to_timestamp(from_unixtime(col(\"author_last_played\").cast(\"long\")))) \\\n",
    "        .withColumn(\"timestamp_created\", to_timestamp(from_unixtime(col(\"timestamp_created\").cast(\"long\")))) \\\n",
    "        .withColumn(\"timestamp_updated\", to_timestamp(from_unixtime(col(\"timestamp_updated\").cast(\"long\"))))\n",
    "    \n",
    "    print(\"\\nConverted Schema:\")\n",
    "    df_processed.printSchema()\n",
    "    \n",
    "    return df_processed\n",
    "\n",
    "def check_null_values(df):\n",
    "    \"\"\"\n",
    "    Check for null values in all columns and print the count\n",
    "    \"\"\"\n",
    "    # Create expressions for counting nulls in each column\n",
    "    null_count_expressions = []\n",
    "    \n",
    "    for c in df.columns:\n",
    "        column_type = dict(df.dtypes)[c]\n",
    "        \n",
    "        # For numeric columns (int, double, float), check both null and NaN\n",
    "        if column_type in ['int', 'bigint', 'double', 'float']:\n",
    "            null_count_expressions.append(count(when(col(c).isNull() | isnan(c), c)).alias(c))\n",
    "        # For string columns, check for nulls and empty strings\n",
    "        elif column_type == 'string':\n",
    "            null_count_expressions.append(count(when(col(c).isNull() | (col(c) == \"\"), c)).alias(c))\n",
    "        # For timestamp columns, check for nulls\n",
    "        elif column_type == 'timestamp':\n",
    "            null_count_expressions.append(count(when(col(c).isNull(), c)).alias(c))\n",
    "        # For other types, only check for null\n",
    "        else:\n",
    "            null_count_expressions.append(count(when(col(c).isNull(), c)).alias(c))\n",
    "    \n",
    "    # Apply the expressions to the DataFrame\n",
    "    null_counts = df.select(null_count_expressions)\n",
    "    \n",
    "    return null_counts\n",
    "\n",
    "def drop_rows_with_nulls(df):\n",
    "    \"\"\"\n",
    "    Drop rows where at least one value is null or empty string (for string columns) \n",
    "    or NaN (for numeric columns)\n",
    "    \"\"\"\n",
    "    # Get the data types of each column\n",
    "    column_types = dict(df.dtypes)\n",
    "    \n",
    "    # Create a filter condition to keep rows where all columns are non-null/non-empty/non-NaN\n",
    "    filter_condition = None\n",
    "    \n",
    "    for c in df.columns:\n",
    "        column_type = column_types[c]\n",
    "        \n",
    "        # For numeric columns (int, double, float), check both null and NaN\n",
    "        if column_type in ['int', 'bigint', 'double', 'float']:\n",
    "            condition = ~(col(c).isNull() | isnan(col(c)))\n",
    "        # For string columns, check for nulls and empty strings\n",
    "        elif column_type == 'string':\n",
    "            condition = ~(col(c).isNull() | (col(c) == \"\"))\n",
    "        # For timestamp columns, check for nulls\n",
    "        elif column_type == 'timestamp':\n",
    "            condition = ~col(c).isNull()\n",
    "        # For other types, only check for null\n",
    "        else:\n",
    "            condition = ~col(c).isNull()\n",
    "        \n",
    "        # Combine conditions with AND\n",
    "        if filter_condition is None:\n",
    "            filter_condition = condition\n",
    "        else:\n",
    "            filter_condition = filter_condition & condition\n",
    "    \n",
    "    # Count before dropping\n",
    "    count_before = df.count()\n",
    "    \n",
    "    # Filter the dataframe\n",
    "    df_cleaned = df.filter(filter_condition)\n",
    "    \n",
    "    # Count after dropping\n",
    "    count_after = df_cleaned.count()\n",
    "    \n",
    "    print(f\"Dropped {count_before - count_after} rows with null values\")\n",
    "    print(f\"Rows before: {count_before}, Rows after: {count_after}\")\n",
    "    \n",
    "    return df_cleaned\n",
    "\n",
    "def main(file_path):\n",
    "    \"\"\"\n",
    "    Main function to process the Steam Reviews dataset\n",
    "    \"\"\"\n",
    "    # TASK 1: Load the parquet file\n",
    "    df, spark = load_parquet_file(file_path)\n",
    "    \n",
    "    # TASK 2: Drop specified columns\n",
    "    columns_to_drop = [\n",
    "        \"author_playtime_last_two_weeks\", \n",
    "        \"recommendationid\",\n",
    "        \"appid\",\n",
    "        \"voted_up\",\n",
    "        \"hidden_in_steam_china\",\n",
    "        \"steam_china_location\"\n",
    "    ]\n",
    "    df = drop_columns(df, columns_to_drop)\n",
    "    \n",
    "    # TASK 3: Convert data types\n",
    "    df = convert_data_types(df)\n",
    "    \n",
    "    # TASK 4: Drop rows with null values\n",
    "    # First, check for null values\n",
    "    null_counts = check_null_values(df)\n",
    "    print(\"Null value counts before dropping rows:\")\n",
    "    null_counts.show(truncate=False)\n",
    "    \n",
    "    # Drop rows with null values\n",
    "    df_cleaned = drop_rows_with_nulls(df)\n",
    "    \n",
    "    # Verify no null values remain\n",
    "    null_counts_after = check_null_values(df_cleaned)\n",
    "    print(\"Null value counts after dropping rows:\")\n",
    "    null_counts_after.show(truncate=False)\n",
    "    \n",
    "    # Return the cleaned DataFrame\n",
    "    return df_cleaned\n",
    "\n",
    "if __name__ == \"__main__\":\n",
    "    # Replace with your actual file path\n",
    "    file_path = \"data/all_reviews/1m_sample.parquet\"\n",
    "    \n",
    "    # Process the dataset\n",
    "    clean_df = main(file_path)\n",
    "    \n",
    "\n"
   ]
  },
  {
   "cell_type": "code",
   "execution_count": 47,
   "id": "27a19a29-1f55-4bb8-8a3b-29d16182e09f",
   "metadata": {},
   "outputs": [
    {
     "name": "stderr",
     "output_type": "stream",
     "text": [
      "                                                                                \r"
     ]
    },
    {
     "data": {
      "text/plain": [
       "[Row(game=0, author_steamid=0, author_num_games_owned=0, author_num_reviews=0, author_playtime_forever=0, author_playtime_at_review=0, author_last_played=0, language=0, review=0, timestamp_created=0, timestamp_updated=0, votes_up=0, votes_funny=0, weighted_vote_score=0, comment_count=0, steam_purchase=0, received_for_free=0, written_during_early_access=0)]"
      ]
     },
     "execution_count": 47,
     "metadata": {},
     "output_type": "execute_result"
    }
   ],
   "source": [
    "null_counts = check_null_values(clean_df)\n",
    "null_counts.head(50)"
   ]
  },
  {
   "cell_type": "code",
   "execution_count": 48,
   "id": "599b3df6-834c-46be-a692-e4242ecfabbf",
   "metadata": {},
   "outputs": [
    {
     "name": "stderr",
     "output_type": "stream",
     "text": [
      "[Stage 420:============================>                            (1 + 1) / 2]\r"
     ]
    },
    {
     "name": "stdout",
     "output_type": "stream",
     "text": [
      "Dropped 0 records where 'game' is null.\n",
      "Records before: 973340, Records after: 973340\n"
     ]
    },
    {
     "name": "stderr",
     "output_type": "stream",
     "text": [
      "                                                                                \r"
     ]
    }
   ],
   "source": [
    "column_to_drop = \"game\"  # Change this to the column you want to use for dropping\n",
    "clean_df = drop_null_records(clean_df, column_to_drop)"
   ]
  },
  {
   "cell_type": "code",
   "execution_count": 50,
   "id": "aa624bbf-7c70-4079-ab0b-89d643a05618",
   "metadata": {},
   "outputs": [
    {
     "name": "stdout",
     "output_type": "stream",
     "text": [
      "\n",
      "================================================================================\n",
      "ANALYSIS FOR COLUMN: timestamp_created\n",
      "================================================================================\n"
     ]
    },
    {
     "name": "stderr",
     "output_type": "stream",
     "text": [
      "                                                                                \r"
     ]
    },
    {
     "name": "stdout",
     "output_type": "stream",
     "text": [
      "Total unique values: 970339\n"
     ]
    },
    {
     "name": "stderr",
     "output_type": "stream",
     "text": [
      "                                                                                \r"
     ]
    },
    {
     "name": "stdout",
     "output_type": "stream",
     "text": [
      "Count of null or empty strings: 0\n"
     ]
    },
    {
     "name": "stderr",
     "output_type": "stream",
     "text": [
      "                                                                                \r"
     ]
    },
    {
     "name": "stdout",
     "output_type": "stream",
     "text": [
      "Sample unique values (up to 20): [datetime.datetime(2022, 3, 24, 15, 55, 47), datetime.datetime(2021, 5, 28, 14, 21, 2), datetime.datetime(2020, 6, 12, 16, 52, 50), datetime.datetime(2019, 12, 29, 12, 40, 22), datetime.datetime(2018, 12, 9, 4, 43, 25), datetime.datetime(2018, 7, 27, 20, 14, 36), datetime.datetime(2017, 5, 5, 20, 17, 41), datetime.datetime(2016, 12, 17, 22, 29, 47), datetime.datetime(2016, 10, 5, 16, 4, 1), datetime.datetime(2014, 10, 31, 10, 14, 22), datetime.datetime(2023, 1, 19, 2, 35, 56), datetime.datetime(2019, 2, 23, 6, 35, 7), datetime.datetime(2020, 5, 5, 12, 30, 54), datetime.datetime(2022, 9, 17, 12, 27, 42), datetime.datetime(2020, 6, 26, 6, 58, 30), datetime.datetime(2015, 6, 15, 9, 21, 37), datetime.datetime(2021, 8, 2, 3, 13, 44), datetime.datetime(2019, 6, 29, 3, 24, 34), datetime.datetime(2014, 1, 25, 19, 11, 45), datetime.datetime(2020, 2, 6, 16, 46, 33)]\n",
      "Top 10 most frequent values:\n"
     ]
    },
    {
     "name": "stderr",
     "output_type": "stream",
     "text": [
      "                                                                                \r"
     ]
    },
    {
     "name": "stdout",
     "output_type": "stream",
     "text": [
      "+-------------------+-----+\n",
      "|timestamp_created  |count|\n",
      "+-------------------+-----+\n",
      "|2018-11-22 10:54:53|6    |\n",
      "|2017-11-22 14:26:00|3    |\n",
      "|2020-11-25 13:28:39|3    |\n",
      "|2014-01-03 04:11:43|3    |\n",
      "|2019-06-29 14:38:55|3    |\n",
      "|2023-05-20 11:04:10|3    |\n",
      "|2021-11-04 10:50:17|3    |\n",
      "|2020-11-25 13:44:39|3    |\n",
      "|2019-12-10 22:47:54|3    |\n",
      "|2022-11-23 09:46:56|3    |\n",
      "|2019-06-29 06:22:47|3    |\n",
      "|2020-11-25 17:50:51|3    |\n",
      "|2020-11-28 11:46:48|3    |\n",
      "|2017-06-27 13:44:33|3    |\n",
      "|2019-11-26 13:07:21|3    |\n",
      "|2021-02-25 14:47:18|3    |\n",
      "|2016-11-24 03:31:59|3    |\n",
      "|2019-06-30 17:42:59|3    |\n",
      "|2020-05-19 00:13:49|2    |\n",
      "|2020-07-05 18:54:59|2    |\n",
      "+-------------------+-----+\n",
      "\n"
     ]
    },
    {
     "name": "stderr",
     "output_type": "stream",
     "text": [
      "                                                                                \r"
     ]
    },
    {
     "name": "stdout",
     "output_type": "stream",
     "text": [
      "Values with leading/trailing whitespace: 0\n"
     ]
    },
    {
     "name": "stderr",
     "output_type": "stream",
     "text": [
      "[Stage 466:============================>                            (1 + 1) / 2]\r"
     ]
    },
    {
     "name": "stdout",
     "output_type": "stream",
     "text": [
      "Values with special characters: 973340\n"
     ]
    },
    {
     "name": "stderr",
     "output_type": "stream",
     "text": [
      "                                                                                \r"
     ]
    }
   ],
   "source": [
    "columns_to_analyze = [\n",
    "    \"timestamp_created\"\n",
    "]\n",
    "\n",
    "analyze_string_columns_for_conversion(clean_df, columns_to_analyze)"
   ]
  },
  {
   "cell_type": "code",
   "execution_count": null,
   "id": "887c534d-2938-498b-b245-3b7036545a05",
   "metadata": {},
   "outputs": [],
   "source": []
  }
 ],
 "metadata": {
  "kernelspec": {
   "display_name": "Python [conda env:bigdata]",
   "language": "python",
   "name": "conda-env-bigdata-py"
  },
  "language_info": {
   "codemirror_mode": {
    "name": "ipython",
    "version": 3
   },
   "file_extension": ".py",
   "mimetype": "text/x-python",
   "name": "python",
   "nbconvert_exporter": "python",
   "pygments_lexer": "ipython3",
   "version": "3.12.9"
  }
 },
 "nbformat": 4,
 "nbformat_minor": 5
}
